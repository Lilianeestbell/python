{
 "cells": [
  {
   "cell_type": "code",
   "execution_count": 1,
   "metadata": {},
   "outputs": [
    {
     "name": "stdout",
     "output_type": "stream",
     "text": [
      "['trek', 'friend', 'redline']\n"
     ]
    }
   ],
   "source": [
    "bicycles = ['trek', 'friend', 'redline']\n",
    "print(bicycles)"
   ]
  },
  {
   "cell_type": "code",
   "execution_count": 6,
   "metadata": {},
   "outputs": [
    {
     "name": "stdout",
     "output_type": "stream",
     "text": [
      "redline\n",
      "hello\n"
     ]
    }
   ],
   "source": [
    "bicycles = ['trek', 'friend', 'redline', 'hello']\n",
    "print(bicycles[2])\n",
    "print(bicycles[-1])"
   ]
  },
  {
   "cell_type": "code",
   "execution_count": 3,
   "metadata": {},
   "outputs": [
    {
     "name": "stdout",
     "output_type": "stream",
     "text": [
      "Redline\n"
     ]
    }
   ],
   "source": [
    "bicycles = ['trek', 'friend', 'redline']\n",
    "print(bicycles[2].title())"
   ]
  },
  {
   "cell_type": "code",
   "execution_count": 9,
   "metadata": {},
   "outputs": [
    {
     "name": "stdout",
     "output_type": "stream",
     "text": [
      "hello this wasRedline\n"
     ]
    }
   ],
   "source": [
    "bicycles = ['trek', 'friend', 'redline', 'hello']\n",
    "message = f\"hello this was{bicycles[2].title()}\"\n",
    "print(message)"
   ]
  },
  {
   "cell_type": "code",
   "execution_count": 12,
   "metadata": {},
   "outputs": [
    {
     "name": "stdout",
     "output_type": "stream",
     "text": [
      "hello, my dearLila\n"
     ]
    }
   ],
   "source": [
    "names = ['lila', 'Lilith', 'elia', 'jade']\n",
    "message = f\"hello, my dear {names[0].title()}\"\n",
    "print(message)"
   ]
  },
  {
   "cell_type": "code",
   "execution_count": 14,
   "metadata": {},
   "outputs": [
    {
     "name": "stdout",
     "output_type": "stream",
     "text": [
      "['swimming', 'running', 'walking']\n"
     ]
    }
   ],
   "source": [
    "# CRUD\n",
    "hobbies = ['swimming', 'jogging', 'walking']\n",
    "hobbies[1] = 'running'\n",
    "print(hobbies)"
   ]
  },
  {
   "cell_type": "code",
   "execution_count": 15,
   "metadata": {},
   "outputs": [
    {
     "name": "stdout",
     "output_type": "stream",
     "text": [
      "['swimming', 'jogging', 'walking', 'hello']\n"
     ]
    }
   ],
   "source": [
    "# add an element to the end of list by append\n",
    "hobbies = ['swimming', 'jogging', 'walking']\n",
    "hobbies.append('hello')\n",
    "print(hobbies)"
   ]
  },
  {
   "cell_type": "code",
   "execution_count": 16,
   "metadata": {},
   "outputs": [
    {
     "name": "stdout",
     "output_type": "stream",
     "text": [
      "['swimming', 'jogging', 'hello', 'walking']\n"
     ]
    }
   ],
   "source": [
    "# insert an element to the end of list by insert\n",
    "hobbies = ['swimming', 'jogging', 'walking']\n",
    "hobbies.insert(2,'hello')\n",
    "print(hobbies)"
   ]
  },
  {
   "cell_type": "code",
   "execution_count": 17,
   "metadata": {},
   "outputs": [
    {
     "name": "stdout",
     "output_type": "stream",
     "text": [
      "['swimming', 'jogging', 'walking']\n",
      "['swimming', 'walking']\n"
     ]
    }
   ],
   "source": [
    "# delete an element to the end of list by del\n",
    "hobbies = ['swimming', 'jogging', 'walking']\n",
    "print(hobbies)\n",
    "del hobbies[1]\n",
    "print(hobbies)"
   ]
  },
  {
   "cell_type": "code",
   "execution_count": 19,
   "metadata": {},
   "outputs": [
    {
     "name": "stdout",
     "output_type": "stream",
     "text": [
      "['swimming', 'jogging', 'walking']\n",
      "['swimming', 'jogging']\n",
      "walking\n"
     ]
    }
   ],
   "source": [
    "hobbies = ['swimming', 'jogging', 'walking']\n",
    "print(hobbies)\n",
    "popEle = hobbies.pop()\n",
    "print(hobbies)\n",
    "print(popEle)"
   ]
  },
  {
   "cell_type": "code",
   "execution_count": 20,
   "metadata": {},
   "outputs": [
    {
     "name": "stdout",
     "output_type": "stream",
     "text": [
      "['swimming', 'jogging', 'walking']\n",
      "['swimming', 'walking']\n",
      "jogging\n"
     ]
    }
   ],
   "source": [
    "hobbies = ['swimming', 'jogging', 'walking']\n",
    "print(hobbies)\n",
    "popEle = hobbies.pop(1)\n",
    "print(hobbies)\n",
    "print(popEle)"
   ]
  },
  {
   "cell_type": "code",
   "execution_count": 23,
   "metadata": {},
   "outputs": [
    {
     "name": "stdout",
     "output_type": "stream",
     "text": [
      "['swimming', 'jogging', 'walking']\n",
      "['swimming', 'walking']\n",
      "jogging\n"
     ]
    }
   ],
   "source": [
    "hobbies = ['swimming', 'jogging', 'walking']\n",
    "print(hobbies)\n",
    "activity = 'jogging'\n",
    "hobbies.remove(activity)\n",
    "print(hobbies)\n",
    "print(activity)"
   ]
  },
  {
   "cell_type": "code",
   "execution_count": 27,
   "metadata": {},
   "outputs": [
    {
     "name": "stdout",
     "output_type": "stream",
     "text": [
      "['ace', 'jogging', 'swimming', 'walking']\n",
      "['walking', 'swimming', 'jogging', 'ace']\n"
     ]
    }
   ],
   "source": [
    "# sort change the order permanently\n",
    "hobbies = ['swimming', 'jogging', 'walking', 'ace']\n",
    "hobbies.sort()\n",
    "print(hobbies)\n",
    "hobbies.sort(reverse=True)\n",
    "print(hobbies)"
   ]
  },
  {
   "cell_type": "code",
   "execution_count": 36,
   "metadata": {},
   "outputs": [
    {
     "name": "stdout",
     "output_type": "stream",
     "text": [
      "['walking', 'swimming', 'jogging', 'ace']\n",
      "['swimming', 'jogging', 'walking', 'ace']\n"
     ]
    }
   ],
   "source": [
    "# sorted change the order \n",
    "hobbies = ['swimming', 'jogging', 'walking', 'ace']\n",
    "print(sorted(hobbies, reverse=True))\n",
    "print(hobbies)"
   ]
  },
  {
   "cell_type": "code",
   "execution_count": 37,
   "metadata": {},
   "outputs": [
    {
     "data": {
      "text/plain": [
       "4"
      ]
     },
     "execution_count": 37,
     "metadata": {},
     "output_type": "execute_result"
    }
   ],
   "source": [
    "hobbies = ['swimming', 'jogging', 'walking', 'ace']\n",
    "len(hobbies)\n",
    "# 获取长度"
   ]
  },
  {
   "cell_type": "code",
   "execution_count": 42,
   "metadata": {},
   "outputs": [
    {
     "name": "stdout",
     "output_type": "stream",
     "text": [
      "['LA', 'HK', 'Paris', 'Africa', 'Boston']\n",
      "['Africa', 'Boston', 'HK', 'LA', 'Paris']\n",
      "['Paris', 'LA', 'HK', 'Boston', 'Africa']\n"
     ]
    }
   ],
   "source": [
    "places = ['LA', 'HK', 'Paris', 'Africa', 'Boston']\n",
    "print(places)\n",
    "print(sorted(places))\n",
    "print(sorted(places, reverse=True))\n",
    "# print(places)"
   ]
  },
  {
   "cell_type": "code",
   "execution_count": 45,
   "metadata": {},
   "outputs": [
    {
     "name": "stdout",
     "output_type": "stream",
     "text": [
      "['LA', 'HK', 'Paris', 'Africa', 'Boston']\n",
      "['Boston', 'Africa', 'Paris', 'HK', 'LA']\n",
      "['Paris', 'LA', 'HK', 'Boston', 'Africa']\n"
     ]
    }
   ],
   "source": [
    "places = ['LA', 'HK', 'Paris', 'Africa', 'Boston']\n",
    "print(places)\n",
    "places.reverse() # reverse change the list forever\n",
    "print(places)\n",
    "places.sort(reverse=True)\n",
    "print(places)"
   ]
  }
 ],
 "metadata": {
  "kernelspec": {
   "display_name": "Python 3.10.7 64-bit",
   "language": "python",
   "name": "python3"
  },
  "language_info": {
   "codemirror_mode": {
    "name": "ipython",
    "version": 3
   },
   "file_extension": ".py",
   "mimetype": "text/x-python",
   "name": "python",
   "nbconvert_exporter": "python",
   "pygments_lexer": "ipython3",
   "version": "3.10.7"
  },
  "orig_nbformat": 4,
  "vscode": {
   "interpreter": {
    "hash": "aee8b7b246df8f9039afb4144a1f6fd8d2ca17a180786b69acc140d282b71a49"
   }
  }
 },
 "nbformat": 4,
 "nbformat_minor": 2
}
