{
 "cells": [
  {
   "cell_type": "code",
   "execution_count": 3,
   "metadata": {},
   "outputs": [
    {
     "name": "stdout",
     "output_type": "stream",
     "text": [
      "is car == 'Subaru'? I predict True\n",
      "True\n",
      "is car == 'Audi'? I predict False\n",
      "False\n"
     ]
    }
   ],
   "source": [
    "# 条件测试 = 赋值 / == 判断是否相等，区分大小写。!= 判断两个值是否不等\n",
    "# and 表示同时满足， or表示满足任何一个条件即可\n",
    "# in用来判断特定的值是否已经包含在列表中， not in表示特定的值不在列表中\n",
    "car = 'Subaru'\n",
    "print(\"is car == 'Subaru'? I predict True\")\n",
    "print(car == 'Subaru')\n",
    "print(\"is car == 'Audi'? I predict False\")\n",
    "print(car == 'Audi')\n"
   ]
  },
  {
   "cell_type": "code",
   "execution_count": 19,
   "metadata": {},
   "outputs": [
    {
     "data": {
      "text/plain": [
       "True"
      ]
     },
     "execution_count": 19,
     "metadata": {},
     "output_type": "execute_result"
    }
   ],
   "source": [
    "'hekky' == 'hello'\n",
    "'Hello'.lower() == 'hello'\n",
    "1 == 2\n",
    "1 != 2\n",
    "1 > 2\n",
    "1 < 2\n",
    "1 >= 2\n",
    "1 <= 2\n",
    "0.1 + 0.2 == 0.3\n",
    "car = ['audi','bmw','suzuki']\n",
    "'suzuki' in car\n",
    "'hello' in car\n",
    "'hello' not in car"
   ]
  },
  {
   "cell_type": "code",
   "execution_count": 43,
   "metadata": {},
   "outputs": [
    {
     "name": "stdout",
     "output_type": "stream",
     "text": [
      "you are old enough to vote\n"
     ]
    }
   ],
   "source": [
    "age = 19\n",
    "if age >= 18:\n",
    "    print(\"you are old enough to vote\")"
   ]
  },
  {
   "cell_type": "code",
   "execution_count": 22,
   "metadata": {},
   "outputs": [
    {
     "name": "stdout",
     "output_type": "stream",
     "text": [
      "you are not old enough\n"
     ]
    }
   ],
   "source": [
    "age = 9\n",
    "if age >= 18:\n",
    "    print(\"you are old enough to vote\")\n",
    "else:\n",
    "    print('you are not old enough')"
   ]
  },
  {
   "cell_type": "code",
   "execution_count": 25,
   "metadata": {},
   "outputs": [
    {
     "name": "stdout",
     "output_type": "stream",
     "text": [
      "your admission cost is 0$\n"
     ]
    }
   ],
   "source": [
    "age = 1\n",
    "if age < 4:\n",
    "    print(\"your admission cost is 0$\")\n",
    "elif age < 18:\n",
    "    print('your admission cost is 10$')\n",
    "else: \n",
    "    print('your admission cost is 20$')"
   ]
  },
  {
   "cell_type": "code",
   "execution_count": 33,
   "metadata": {},
   "outputs": [
    {
     "name": "stdout",
     "output_type": "stream",
     "text": [
      "your admission cost is 0$\n"
     ]
    }
   ],
   "source": [
    "age = 22\n",
    "price = 0\n",
    "if age < 4:\n",
    "    price = 0\n",
    "elif age < 18:\n",
    "    price = 5\n",
    "elif age > 65:\n",
    "    price = 10\n",
    "else: \n",
    "    price = 15\n",
    "# print(\"your admission cost is \" + price + \"$\")\n",
    "print(\"your admission cost is \" + str(price) + \"$\")\n",
    "# str(number)把number转化为字符串"
   ]
  },
  {
   "cell_type": "code",
   "execution_count": 34,
   "metadata": {},
   "outputs": [
    {
     "name": "stdout",
     "output_type": "stream",
     "text": [
      "your admission cost is 20$\n"
     ]
    }
   ],
   "source": [
    "age = 22\n",
    "price = 0\n",
    "if age < 4:\n",
    "    price = 0\n",
    "elif age < 18:\n",
    "    price = 5\n",
    "elif age > 65:\n",
    "    price = 10\n",
    "elif age <= 65:\n",
    "    price = 20\n",
    "# print(\"your admission cost is \" + price + \"$\")\n",
    "print(\"your admission cost is \" + str(price) + \"$\")\n",
    "# str(number)把number转化为字符串"
   ]
  },
  {
   "cell_type": "code",
   "execution_count": 36,
   "metadata": {},
   "outputs": [
    {
     "name": "stdout",
     "output_type": "stream",
     "text": [
      "Adding mushrooms\n",
      "Adding cheese\n",
      "\n",
      "Finished making your pizza\n"
     ]
    }
   ],
   "source": [
    "toppings = ['mushrooms', 'cheese', 'tomatoes']\n",
    "if('tomatoes' in toppings):\n",
    "    print(\"Adding mushrooms\")\n",
    "if('cheese' in toppings):\n",
    "    print('Adding cheese')\n",
    "print('\\nFinished making your pizza')"
   ]
  },
  {
   "cell_type": "code",
   "execution_count": 40,
   "metadata": {},
   "outputs": [
    {
     "name": "stdout",
     "output_type": "stream",
     "text": [
      "you got 15 points\n"
     ]
    }
   ],
   "source": [
    "alien_color = 'red'\n",
    "if(alien_color == 'green'):\n",
    "    print('you got 5 points')\n",
    "else:\n",
    "    print('you got 15 points') "
   ]
  },
  {
   "cell_type": "code",
   "execution_count": 38,
   "metadata": {},
   "outputs": [
    {
     "name": "stdout",
     "output_type": "stream",
     "text": [
      "you got 35 points\n"
     ]
    }
   ],
   "source": [
    "alien_color = 'yellow'\n",
    "if(alien_color == 'green'):\n",
    "    print('you got 5 points')\n",
    "elif(alien_color == 'red'):\n",
    "    print('you got 15 points')\n",
    "elif(alien_color == 'yellow'):\n",
    "    print('you got 35 points')"
   ]
  },
  {
   "cell_type": "code",
   "execution_count": 45,
   "metadata": {},
   "outputs": [
    {
     "name": "stdout",
     "output_type": "stream",
     "text": [
      "hello\n"
     ]
    }
   ],
   "source": [
    "favorite_fruits = ['durian', 'apple', 'peach']\n",
    "if('durian' in favorite_fruits):\n",
    "    print(\"hello\")"
   ]
  },
  {
   "cell_type": "code",
   "execution_count": 47,
   "metadata": {},
   "outputs": [
    {
     "name": "stdout",
     "output_type": "stream",
     "text": [
      "sorry\n",
      "Addcheese.\n",
      "Addtomatoes.\n",
      "\n",
      "Finished making your pizza\n"
     ]
    }
   ],
   "source": [
    "toppings = ['mushrooms', 'cheese', 'tomatoes']\n",
    "for top in toppings:\n",
    "    if top == 'mushrooms':\n",
    "        print('sorry')\n",
    "    else:\n",
    "        print(\"Add\" + top + \".\")\n",
    "print('\\nFinished making your pizza')"
   ]
  },
  {
   "cell_type": "code",
   "execution_count": 48,
   "metadata": {},
   "outputs": [
    {
     "name": "stdout",
     "output_type": "stream",
     "text": [
      "hello empty\n"
     ]
    }
   ],
   "source": [
    "top = []\n",
    "if top:\n",
    "    for top in toppings:\n",
    "        if top == 'mushrooms':\n",
    "            print('sorry')\n",
    "        else:\n",
    "            print(\"Add\" + top + \".\")\n",
    "else: \n",
    "    print('hello empty')"
   ]
  },
  {
   "cell_type": "code",
   "execution_count": 57,
   "metadata": {},
   "outputs": [
    {
     "name": "stdout",
     "output_type": "stream",
     "text": [
      "sorry, we don't have pineapple.\n",
      "sorry, we don't have olives.\n",
      "Add cheese.\n",
      "Add tomatoes.\n",
      "\n",
      "Finished making your pizza\n"
     ]
    }
   ],
   "source": [
    "available_toppings = ['mushrooms', 'cheese', 'tomatoes']\n",
    "quested_toppings = ['pineapple', 'olives', 'cheese', 'tomatoes']\n",
    "for quested_topping in quested_toppings:\n",
    "    if(quested_topping in available_toppings):\n",
    "        print(\"Add \" + quested_topping + \".\")\n",
    "    else:\n",
    "        print(\"sorry, we don't have \" + quested_topping + \".\")\n",
    "\n",
    "print('\\nFinished making your pizza')"
   ]
  },
  {
   "cell_type": "code",
   "execution_count": 60,
   "metadata": {},
   "outputs": [
    {
     "name": "stdout",
     "output_type": "stream",
     "text": [
      "hello admin, would you like to see a status report\n",
      "hello client1, thank you for logging again\n",
      "hello client2, thank you for logging again\n",
      "hello client3, thank you for logging again\n",
      "hello manager, thank you for logging again\n"
     ]
    }
   ],
   "source": [
    "admins = ['admin', 'client1', 'client2', 'client3', 'manager']\n",
    "for admin in admins:\n",
    "    if admin == 'admin':\n",
    "        print('hello admin, would you like to see a status report')\n",
    "    else:\n",
    "        print(\"hello \" + admin + \", thank you for logging again\")"
   ]
  },
  {
   "cell_type": "code",
   "execution_count": 5,
   "metadata": {},
   "outputs": [
    {
     "name": "stdout",
     "output_type": "stream",
     "text": [
      "this is adminsides\n",
      "this is client1sides\n",
      "this is client2sides\n",
      "this is client3sides\n",
      "this is managersides\n"
     ]
    }
   ],
   "source": [
    "admins = ['admin', 'client1', 'client2', 'client3', 'manager']\n",
    "# admins = []\n",
    "if admins:\n",
    "    for admin in admins:\n",
    "        print(\"this is \" + admin + \" sides\")\n",
    "        del admin\n",
    "else:\n",
    "    print('we need to find some users')"
   ]
  },
  {
   "cell_type": "code",
   "execution_count": 10,
   "metadata": {},
   "outputs": [
    {
     "name": "stdout",
     "output_type": "stream",
     "text": [
      "['ADMIN', 'NEWCLIENT']\n",
      "admin\n",
      "not used\n",
      "not used\n",
      "not used\n",
      "not used\n"
     ]
    }
   ],
   "source": [
    "current_user = ['admin', 'client1', 'client2', 'client3', 'manager']\n",
    "new_user = ['admin','newClient']\n",
    "changed_user = []\n",
    "for user in new_user:\n",
    "    changed_user.append(user.upper()) \n",
    "print(changed_user)\n",
    "for user in current_user:\n",
    "    if user.upper() in changed_user:\n",
    "        print(user)\n",
    "    else:\n",
    "        print('not used')"
   ]
  },
  {
   "cell_type": "code",
   "execution_count": 13,
   "metadata": {},
   "outputs": [
    {
     "name": "stdout",
     "output_type": "stream",
     "text": [
      "1st\n",
      "2nd\n",
      "3rd\n",
      "4th\n",
      "5th\n",
      "6th\n",
      "7th\n",
      "8th\n",
      "9th\n"
     ]
    }
   ],
   "source": [
    "list = [1,2,3,4,5,6,7,8,9]\n",
    "for ele in list:\n",
    "    if ele == 1:\n",
    "        print('1st')\n",
    "    elif ele == 2:\n",
    "        print('2nd')\n",
    "    elif ele == 3:\n",
    "        print('3rd')\n",
    "    else:\n",
    "        print(str(ele) + 'th')\n"
   ]
  }
 ],
 "metadata": {
  "kernelspec": {
   "display_name": "Python 3.10.7 64-bit",
   "language": "python",
   "name": "python3"
  },
  "language_info": {
   "codemirror_mode": {
    "name": "ipython",
    "version": 3
   },
   "file_extension": ".py",
   "mimetype": "text/x-python",
   "name": "python",
   "nbconvert_exporter": "python",
   "pygments_lexer": "ipython3",
   "version": "3.10.7"
  },
  "orig_nbformat": 4,
  "vscode": {
   "interpreter": {
    "hash": "aee8b7b246df8f9039afb4144a1f6fd8d2ca17a180786b69acc140d282b71a49"
   }
  }
 },
 "nbformat": 4,
 "nbformat_minor": 2
}
