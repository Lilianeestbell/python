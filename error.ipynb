{
 "cells": [
  {
   "cell_type": "code",
   "execution_count": null,
   "metadata": {},
   "outputs": [],
   "source": [
    "try:\n",
    "    print(5/0)\n",
    "except ZeroDivisionError: \n",
    "    print(\"you can't divide by zero\")"
   ]
  },
  {
   "cell_type": "code",
   "execution_count": null,
   "metadata": {},
   "outputs": [],
   "source": [
    "print(\"Give me two numbers, and I'll divide them.\")\n",
    "print(\"Enter 'q' to quit.\")\n",
    "#如果把这行代码放在while循环之外，输入数字之后再输入q之后，会报错，\n",
    "# intValueError: invalid literal for int() with base 10: 'q'\n",
    "# first_number = input(\"\\n First number\")\n",
    "while True:\n",
    "    first_number = input(\"\\n First number\")\n",
    "    if first_number == 'q':\n",
    "        break\n",
    "    second_number = input(\"\\n Second number\")\n",
    "    try:\n",
    "        answer = int(first_number) / int(second_number)\n",
    "    except ZeroDivisionError: \n",
    "        print(\"you can't divide by zero\")\n",
    "    else:\n",
    "        print(answer)"
   ]
  },
  {
   "cell_type": "code",
   "execution_count": null,
   "metadata": {},
   "outputs": [],
   "source": [
    "# file not found error\n",
    "file_name = 'alice.txt'\n",
    "try:\n",
    "    with open(file_name) as f_obj:\n",
    "        contents = f_obj.read()\n",
    "except FileNotFoundError:\n",
    "    msg = \"sorry,not found\"\n",
    "    print(msg)\n"
   ]
  },
  {
   "cell_type": "code",
   "execution_count": null,
   "metadata": {},
   "outputs": [],
   "source": [
    "file_name = 'book.txt'\n",
    "try:\n",
    "    with open(file_name) as f_obj:\n",
    "        contents = f_obj.read()\n",
    "except FileNotFoundError:\n",
    "    msg = \"sorry,not found\"\n",
    "    print(msg)\n",
    "else:\n",
    "    words = contents.split()\n",
    "    number_words = len(words)\n",
    "    print(\"the file includes \" + str(number_words) + \" words\")"
   ]
  },
  {
   "cell_type": "code",
   "execution_count": null,
   "metadata": {},
   "outputs": [],
   "source": [
    "def count_words(filename):\n",
    "    try:\n",
    "        with open(filename) as f_obj:\n",
    "            contents = f_obj.read()\n",
    "    except FileNotFoundError:\n",
    "        msg = \"sorry,not found\"\n",
    "        print(msg)\n",
    "    else:\n",
    "        words = contents.split()\n",
    "        number_words = len(words)\n",
    "        print(\"the file includes \" + str(number_words) + \" words\")\n",
    "\n",
    "# file_name = 'book.txt'\n",
    "# count_words(file_name)\n",
    "\n",
    "file_names = ['helloWorld.txt', 'book.txt', 'alice.txt']\n",
    "for name in file_names:\n",
    "    count_words(name)"
   ]
  },
  {
   "cell_type": "code",
   "execution_count": null,
   "metadata": {},
   "outputs": [],
   "source": [
    "def count_words(filename):\n",
    "    try:\n",
    "        with open(filename) as f_obj:\n",
    "            contents = f_obj.read()\n",
    "    except FileNotFoundError:\n",
    "        pass\n",
    "    else:\n",
    "        words = contents.split()\n",
    "        number_words = len(words)\n",
    "        print(\"the file includes \" + str(number_words) + \" words\")\n",
    "\n",
    "# file_name = 'book.txt'\n",
    "# count_words(file_name)\n",
    "\n",
    "file_names = ['helloWorld.txt', 'book.txt', 'alice.txt']\n",
    "for name in file_names:\n",
    "    count_words(name)"
   ]
  },
  {
   "cell_type": "code",
   "execution_count": null,
   "metadata": {},
   "outputs": [],
   "source": [
    "first_number = input(\"please enter first number\")\n",
    "last_number = input(\"please enter last number\")\n",
    "try:\n",
    "    sum_number = int(first_number) + int(last_number)\n",
    "except ValueError:\n",
    "    print(\"you have to enter a number\")\n",
    "else:\n",
    "    print(sum_number)"
   ]
  },
  {
   "cell_type": "code",
   "execution_count": null,
   "metadata": {},
   "outputs": [],
   "source": [
    "while True:\n",
    "    first_number = input(\"please enter first number\")\n",
    "    last_number = input(\"please enter last number\")\n",
    "    try:\n",
    "        sum_number = int(first_number) + int(last_number)\n",
    "    except ValueError:\n",
    "        print(\"you have to enter a number\")\n",
    "    else:\n",
    "        print(sum_number)"
   ]
  },
  {
   "cell_type": "code",
   "execution_count": null,
   "metadata": {},
   "outputs": [],
   "source": [
    "def count_animals(filename):\n",
    "    try:\n",
    "        with open(filename) as f_obj:\n",
    "            contents = f_obj.read()\n",
    "    except FileNotFoundError:\n",
    "        pass\n",
    "    else:\n",
    "        words = contents.split()\n",
    "        number_words = len(words)\n",
    "        print(\"the list includes \" + str(number_words) + \" .\")\n",
    "\n",
    "# file_name = ''\n",
    "# count_words(file_name)\n",
    "\n",
    "animals_list = ['dogs.txt', 'cats.txt']\n",
    "for animal in animals_list:\n",
    "    count_animals(name)"
   ]
  },
  {
   "cell_type": "code",
   "execution_count": null,
   "metadata": {},
   "outputs": [],
   "source": [
    "def count_animals(filename):\n",
    "    try:\n",
    "        with open(filename) as f_obj:\n",
    "            contents = f_obj.read()\n",
    "    except FileNotFoundError:\n",
    "        # print(\"this file is not found\")\n",
    "        pass\n",
    "    else:\n",
    "        words = contents.split()\n",
    "        print(\"the list includes \" + contents + \" .\")\n",
    "\n",
    "animals_list = ['dogs.txt', 'cats.txt']\n",
    "for animal in animals_list:\n",
    "    count_animals(animal)"
   ]
  },
  {
   "cell_type": "code",
   "execution_count": null,
   "metadata": {},
   "outputs": [],
   "source": [
    "def count_words(filename):\n",
    "    try:\n",
    "        with open(filename) as f_obj:\n",
    "            contents = f_obj.read()\n",
    "    except FileNotFoundError:\n",
    "        pass\n",
    "    else:\n",
    "        words = contents.split()\n",
    "        number_words = len(words)\n",
    "        print(\"the file includes \" + str(number_words) + \" words\")\n",
    "\n",
    "file_name = 'file/programming.txt'\n",
    "count_words(file_name)"
   ]
  },
  {
   "cell_type": "code",
   "execution_count": 1,
   "metadata": {},
   "outputs": [
    {
     "name": "stdout",
     "output_type": "stream",
     "text": [
      "8001\n"
     ]
    }
   ],
   "source": [
    "def count_words(filename):\n",
    "    try:\n",
    "        with open(filename) as f_obj:\n",
    "            contents = f_obj.read()\n",
    "    except FileNotFoundError:\n",
    "        pass\n",
    "    else:\n",
    "        print(contents.lower().count('the'))\n",
    "\n",
    "file_name = 'file/book.txt'\n",
    "count_words(file_name)"
   ]
  },
  {
   "cell_type": "code",
   "execution_count": 2,
   "metadata": {},
   "outputs": [],
   "source": [
    "# 使用json.dump和json.load\n",
    "import json\n",
    "numbers = [2, 3, 4, 12]\n",
    "file_name = 'numbers.json'\n",
    "with open(file_name, 'w') as f_obj:\n",
    "    json.dump(numbers, f_obj)"
   ]
  },
  {
   "cell_type": "code",
   "execution_count": 4,
   "metadata": {},
   "outputs": [
    {
     "name": "stdout",
     "output_type": "stream",
     "text": [
      "[2, 3, 4, 12]\n"
     ]
    }
   ],
   "source": [
    "import json\n",
    "\n",
    "file_name = 'numbers.json'\n",
    "with open(file_name) as f_obj:\n",
    "    numbers = json.load(f_obj)\n",
    "    print(numbers)"
   ]
  },
  {
   "cell_type": "code",
   "execution_count": 15,
   "metadata": {},
   "outputs": [
    {
     "name": "stdout",
     "output_type": "stream",
     "text": [
      "We'll remember you when you come back lucy\n"
     ]
    }
   ],
   "source": [
    "import json\n",
    "\n",
    "username = input(\"what's your name\")\n",
    "file_name  = 'file/username.json'\n",
    "\n",
    "with open(file_name, 'w') as f_obj:\n",
    "    json.dump(username, f_obj)\n",
    "    print(\"We'll remember you when you come back \" + username)"
   ]
  },
  {
   "cell_type": "code",
   "execution_count": 17,
   "metadata": {},
   "outputs": [
    {
     "name": "stdout",
     "output_type": "stream",
     "text": [
      "Welcom back! lucy\n"
     ]
    }
   ],
   "source": [
    "import json\n",
    "\n",
    "file_name  = 'file/username.json'\n",
    "\n",
    "with open(file_name) as f_obj:\n",
    "    if username:\n",
    "        username = json.load(f_obj)\n",
    "        print(\"Welcom back! \" + username)"
   ]
  },
  {
   "cell_type": "code",
   "execution_count": 20,
   "metadata": {},
   "outputs": [
    {
     "name": "stdout",
     "output_type": "stream",
     "text": [
      "Welcom back! salad\n"
     ]
    }
   ],
   "source": [
    "import json\n",
    "\n",
    "file_name  = 'file/username.json'\n",
    "try:\n",
    "    with open(file_name) as f_obj:\n",
    "        username = json.load(f_obj)\n",
    "except FileNotFoundError:\n",
    "    username = input(\"what's your name\")\n",
    "    with open(file_name, 'w') as f_obj:\n",
    "        json.dump(username, f_obj)\n",
    "        print(\"We'll remember you when you come back \" + username)\n",
    "else:\n",
    "    print(\"Welcom back! \" + username)"
   ]
  },
  {
   "cell_type": "code",
   "execution_count": 21,
   "metadata": {},
   "outputs": [
    {
     "name": "stdout",
     "output_type": "stream",
     "text": [
      "Welcom back! salad\n"
     ]
    }
   ],
   "source": [
    "import json\n",
    "\n",
    "def greet_user():\n",
    "    file_name  = 'file/username.json'\n",
    "try:\n",
    "    with open(file_name) as f_obj:\n",
    "        username = json.load(f_obj)\n",
    "except FileNotFoundError:\n",
    "    username = input(\"what's your name\")\n",
    "    with open(file_name, 'w') as f_obj:\n",
    "        json.dump(username, f_obj)\n",
    "        print(\"We'll remember you when you come back \" + username)\n",
    "else:\n",
    "    print(\"Welcom back! \" + username)\n",
    "\n",
    "greet_user()"
   ]
  },
  {
   "cell_type": "code",
   "execution_count": 22,
   "metadata": {},
   "outputs": [
    {
     "name": "stdout",
     "output_type": "stream",
     "text": [
      "Welcom back! salad\n"
     ]
    }
   ],
   "source": [
    "# 重构1\n",
    "import json\n",
    "\n",
    "def get_stored_user():\n",
    "    file_name  = 'file/username.json'\n",
    "    try:\n",
    "        with open(file_name) as f_obj:\n",
    "            username = json.load(f_obj)\n",
    "    except FileNotFoundError:\n",
    "        return None\n",
    "    else:\n",
    "        return username\n",
    "\n",
    "def greet_user():\n",
    "    username = get_stored_user()\n",
    "    if username:\n",
    "        print(\"Welcom back! \" + username)\n",
    "    else:\n",
    "        username = input(\"what's your name\")\n",
    "        with open(file_name, 'w') as f_obj:\n",
    "            json.dump(username, f_obj)\n",
    "            print(\"We'll remember you when you come back \" + username)\n",
    "\n",
    "greet_user()"
   ]
  },
  {
   "cell_type": "code",
   "execution_count": 40,
   "metadata": {},
   "outputs": [
    {
     "name": "stdout",
     "output_type": "stream",
     "text": [
      "Welcom back! bob\n"
     ]
    }
   ],
   "source": [
    "# 重构 2\n",
    "import json\n",
    "def get_new_name():\n",
    "    file_name  = 'file/username.json'\n",
    "    user_name = input(\"please enter login account name\")\n",
    "    if user_name:\n",
    "        try:\n",
    "            with open(file_name, 'w') as f_obj:\n",
    "                json.dump(user_name, f_obj)\n",
    "        except ValueError:\n",
    "            return None\n",
    "        else:\n",
    "            return user_name\n",
    "\n",
    "def get_stored_user():\n",
    "    file_name  = 'file/username.json'\n",
    "    try:\n",
    "        with open(file_name) as f_obj:\n",
    "            username = json.load(f_obj)\n",
    "    except FileNotFoundError:\n",
    "        return None\n",
    "    else:\n",
    "        return username\n",
    "\n",
    "def greet_user():\n",
    "    username = get_stored_user()\n",
    "    if username:\n",
    "        yes_or_no = input(username + \" is the right login name? yes/no\")\n",
    "        if yes_or_no == 'yes':\n",
    "            print(\"Welcom back! \" + username)\n",
    "        else:\n",
    "            username = get_new_name()\n",
    "            greet_user()\n",
    "    else:\n",
    "        username = get_new_name()\n",
    "        with open(file_name, 'w') as f_obj:\n",
    "            json.dump(username, f_obj)\n",
    "            print(\"We'll remember you when you come back \" + username)\n",
    "\n",
    "greet_user()"
   ]
  },
  {
   "cell_type": "code",
   "execution_count": null,
   "metadata": {},
   "outputs": [
    {
     "name": "stdout",
     "output_type": "stream",
     "text": [
      " i know your favorite number is 234\n"
     ]
    }
   ],
   "source": [
    "import json\n",
    "file_name = 'file/guest_number.json'\n",
    "\n",
    "\n",
    "def get_new_number():\n",
    "    user_number = input(\"please enter a favorite number\")\n",
    "\n",
    "    if user_number:\n",
    "        try:\n",
    "            with open(file_name, 'w') as f_obj:\n",
    "                json.dump(user_number, f_obj)\n",
    "        except ValueError:\n",
    "            return None\n",
    "        else:\n",
    "            return user_number\n",
    "\n",
    "def get_stored_number():\n",
    "    try:\n",
    "        with open(file_name) as f_obj:\n",
    "            user_number = json.load(f_obj)\n",
    "    except FileNotFoundError:\n",
    "        return None\n",
    "    else:\n",
    "        return user_number\n",
    "\n",
    "def greet_number():\n",
    "    chosen_number = get_stored_number()\n",
    "    if chosen_number:\n",
    "        print(\" i know your favorite number is \" + chosen_number)\n",
    "    else:\n",
    "        chosen_number = get_new_number()\n",
    "        print(\" i know your favorite number is \" + chosen_number)\n",
    "\n",
    "greet_number()"
   ]
  }
 ],
 "metadata": {
  "kernelspec": {
   "display_name": "Python 3.10.7 64-bit",
   "language": "python",
   "name": "python3"
  },
  "language_info": {
   "codemirror_mode": {
    "name": "ipython",
    "version": 3
   },
   "file_extension": ".py",
   "mimetype": "text/x-python",
   "name": "python",
   "nbconvert_exporter": "python",
   "pygments_lexer": "ipython3",
   "version": "3.10.7"
  },
  "orig_nbformat": 4,
  "vscode": {
   "interpreter": {
    "hash": "aee8b7b246df8f9039afb4144a1f6fd8d2ca17a180786b69acc140d282b71a49"
   }
  }
 },
 "nbformat": 4,
 "nbformat_minor": 2
}
