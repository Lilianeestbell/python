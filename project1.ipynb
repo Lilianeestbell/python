{
 "cells": [
  {
   "cell_type": "code",
   "execution_count": 3,
   "metadata": {},
   "outputs": [
    {
     "name": "stdout",
     "output_type": "stream",
     "text": [
      "hi everyone\n",
      "so the name of the bind is jn hello\n",
      "so the name of the bind isjnhello\n"
     ]
    }
   ],
   "source": [
    "print('hi everyone')\n",
    "city = input('which city do you grow')\n",
    "pet = input('i want to know the pet\\'s name')\n",
    "print(f'so the name of the bind is {city} {pet}')\n",
    "print('so the name of the bind is' + ''+ city + '' +pet)"
   ]
  }
 ],
 "metadata": {
  "kernelspec": {
   "display_name": "Python 3.7.2 64-bit",
   "language": "python",
   "name": "python3"
  },
  "language_info": {
   "codemirror_mode": {
    "name": "ipython",
    "version": 3
   },
   "file_extension": ".py",
   "mimetype": "text/x-python",
   "name": "python",
   "nbconvert_exporter": "python",
   "pygments_lexer": "ipython3",
   "version": "3.7.2"
  },
  "orig_nbformat": 4,
  "vscode": {
   "interpreter": {
    "hash": "f5812bf74338cfdcf86eebf5ddfaf3941b51f365639c0156a8f0a20f36d43fb1"
   }
  }
 },
 "nbformat": 4,
 "nbformat_minor": 2
}
