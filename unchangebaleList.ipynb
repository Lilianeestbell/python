{
 "cells": [
  {
   "cell_type": "code",
   "execution_count": 3,
   "metadata": {},
   "outputs": [
    {
     "name": "stdout",
     "output_type": "stream",
     "text": [
      "11\n",
      "33\n"
     ]
    }
   ],
   "source": [
    "# python将不能改变的值称为不可变的，而不可变的列表被称为元组\n",
    "dimensions = (11,33)\n",
    "# dimensions[0] = 'hello' 会报错\n",
    "for dimension in dimensions:\n",
    "    print(dimension)\n"
   ]
  },
  {
   "cell_type": "code",
   "execution_count": 4,
   "metadata": {},
   "outputs": [
    {
     "name": "stdout",
     "output_type": "stream",
     "text": [
      "11\n",
      "33\n",
      "110\n",
      "330\n"
     ]
    }
   ],
   "source": [
    "dimensions = (11,33)\n",
    "# dimensions[0] = 'hello' 会报错\n",
    "for dimension in dimensions:\n",
    "    print(dimension)\n",
    "dimensions = (110,330)\n",
    "# dimensions[0] = 'hello' 会报错\n",
    "for dimension in dimensions:\n",
    "    print(dimension)"
   ]
  },
  {
   "cell_type": "code",
   "execution_count": 6,
   "metadata": {},
   "outputs": [
    {
     "name": "stdout",
     "output_type": "stream",
     "text": [
      "meat\n",
      "vegetables\n",
      "coffee\n",
      "tea\n"
     ]
    }
   ],
   "source": [
    "food = ('meat','vegetables')\n",
    "# food[0] = 'hello'\n",
    "for food in food:\n",
    "    print(food)\n",
    "food = ('coffee','tea')\n",
    "# dimensions[0] = 'hello' 会报错\n",
    "for food in food:\n",
    "    print(food)"
   ]
  }
 ],
 "metadata": {
  "kernelspec": {
   "display_name": "Python 3.7.2 64-bit",
   "language": "python",
   "name": "python3"
  },
  "language_info": {
   "codemirror_mode": {
    "name": "ipython",
    "version": 3
   },
   "file_extension": ".py",
   "mimetype": "text/x-python",
   "name": "python",
   "nbconvert_exporter": "python",
   "pygments_lexer": "ipython3",
   "version": "3.7.2"
  },
  "orig_nbformat": 4,
  "vscode": {
   "interpreter": {
    "hash": "f5812bf74338cfdcf86eebf5ddfaf3941b51f365639c0156a8f0a20f36d43fb1"
   }
  }
 },
 "nbformat": 4,
 "nbformat_minor": 2
}
