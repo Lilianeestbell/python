{
 "cells": [
  {
   "cell_type": "code",
   "execution_count": 1,
   "metadata": {},
   "outputs": [
    {
     "name": "stdout",
     "output_type": "stream",
     "text": [
      "Alice\n",
      "Belly\n",
      "Carrie\n",
      "Darcy\n"
     ]
    }
   ],
   "source": [
    "# 遍历\n",
    "magicians =['Alice', 'Belly', 'Carrie', 'Darcy']\n",
    "for name in magicians:\n",
    "    print(name)"
   ]
  },
  {
   "cell_type": "code",
   "execution_count": 5,
   "metadata": {},
   "outputs": [
    {
     "name": "stdout",
     "output_type": "stream",
     "text": [
      "ALICE\n",
      "i have to know the trick of ALICE.\n",
      "\n",
      "BELLY\n",
      "i have to know the trick of BELLY.\n",
      "\n",
      "CARRIE\n",
      "i have to know the trick of CARRIE.\n",
      "\n",
      "DARCY\n",
      "i have to know the trick of DARCY.\n",
      "\n"
     ]
    }
   ],
   "source": [
    "magicians =['Alice', 'Belly', 'Carrie', 'Darcy']\n",
    "for name in magicians:\n",
    "    print(name.upper())\n",
    "    print(\"i have to know the trick of \" + name.upper() + \".\\n\")"
   ]
  },
  {
   "cell_type": "code",
   "execution_count": 8,
   "metadata": {},
   "outputs": [
    {
     "name": "stdout",
     "output_type": "stream",
     "text": [
      "ALICE is a great magicians\n",
      "i have to know the trick of ALICE.\n",
      "\n",
      "BELLY is a great magicians\n",
      "i have to know the trick of BELLY.\n",
      "\n",
      "CARRIE is a great magicians\n",
      "i have to know the trick of CARRIE.\n",
      "\n",
      "DARCY is a great magicians\n",
      "i have to know the trick of DARCY.\n",
      "\n",
      "hey i love to watch scopes in magicians\n"
     ]
    }
   ],
   "source": [
    "# for循环中两条print语句都缩进了，因此它们都将针对列表中的每一个item执行一次\n",
    "# 如果在for循环后面，没有缩进的代码都执行一次，而不会重复执行\n",
    "magicians =['Alice', 'Belly', 'Carrie', 'Darcy']\n",
    "for name in magicians:\n",
    "    print(name.upper() +\" \" + \"is a great magicians\")\n",
    "    print(\"i have to know the trick of \" + name.upper() + \".\\n\")\n",
    "print('hey i love to watch scopes in magicians')\n",
    "# 避免缩进错误"
   ]
  },
  {
   "cell_type": "code",
   "execution_count": 2,
   "metadata": {},
   "outputs": [
    {
     "name": "stdout",
     "output_type": "stream",
     "text": [
      "this is my favorite: pineapple That's is wonderful\n",
      "this is my favorite: beef and tomatoes That's is wonderful\n",
      "this is my favorite: MUTTON AND VEGETABLES That's is wonderful\n",
      "pizza is  wonderful\n"
     ]
    }
   ],
   "source": [
    "# 避免缩进错误\n",
    "pizzas =['pineapple','beef and tomatoes','MUTTON AND VEGETABLES']\n",
    "for food in pizzas:\n",
    "    print('this is my favorite: ' + food + \" \" + 'That\\'s is wonderful' )\n",
    "print('pizza is  wonderful')"
   ]
  },
  {
   "cell_type": "code",
   "execution_count": 1,
   "metadata": {},
   "outputs": [
    {
     "name": "stdout",
     "output_type": "stream",
     "text": [
      "1\n",
      "2\n",
      "3\n",
      "4\n"
     ]
    }
   ],
   "source": [
    "# 使用函数range()\n",
    "for value in range(1,5):\n",
    "    print(value)"
   ]
  },
  {
   "cell_type": "code",
   "execution_count": 17,
   "metadata": {},
   "outputs": [
    {
     "name": "stdout",
     "output_type": "stream",
     "text": [
      "1\n",
      "2\n",
      "3\n",
      "4\n"
     ]
    }
   ],
   "source": [
    "# 使用函数range()\n",
    "for value in range(1,5):\n",
    "    print(value)"
   ]
  },
  {
   "cell_type": "code",
   "execution_count": 20,
   "metadata": {},
   "outputs": [
    {
     "name": "stdout",
     "output_type": "stream",
     "text": [
      "[1, 4, 9, 16, 25, 36, 49, 64]\n"
     ]
    }
   ],
   "source": [
    "squares = []\n",
    "for value in range(1,9):\n",
    "    square = value**2\n",
    "    squares.append(square)\n",
    "    # print(squares)\n",
    "print(squares)"
   ]
  },
  {
   "cell_type": "code",
   "execution_count": 22,
   "metadata": {},
   "outputs": [
    {
     "name": "stdout",
     "output_type": "stream",
     "text": [
      "[1, 4, 9, 16, 25, 36, 49, 64]\n"
     ]
    }
   ],
   "source": [
    "squares = []\n",
    "for value in range(1,9):\n",
    "    squares.append(value**2)\n",
    "print(squares)"
   ]
  },
  {
   "cell_type": "code",
   "execution_count": 26,
   "metadata": {},
   "outputs": [
    {
     "data": {
      "text/plain": [
       "1"
      ]
     },
     "execution_count": 26,
     "metadata": {},
     "output_type": "execute_result"
    }
   ],
   "source": [
    "list =[10,39,44,89,1,3,8,4]\n",
    "min(list)\n",
    "# max(list)\n",
    "# sum(list)"
   ]
  },
  {
   "cell_type": "code",
   "execution_count": 27,
   "metadata": {},
   "outputs": [
    {
     "name": "stdout",
     "output_type": "stream",
     "text": [
      "[1, 4, 9, 16, 25, 36, 49, 64, 81, 100, 121]\n"
     ]
    }
   ],
   "source": [
    "#列表解析\n",
    "squares = [value**2 for value in range(1,12)]\n",
    "print(squares)"
   ]
  },
  {
   "cell_type": "code",
   "execution_count": 28,
   "metadata": {},
   "outputs": [
    {
     "name": "stdout",
     "output_type": "stream",
     "text": [
      "1\n",
      "2\n",
      "3\n",
      "4\n",
      "5\n",
      "6\n",
      "7\n",
      "8\n",
      "9\n",
      "10\n",
      "11\n",
      "12\n",
      "13\n",
      "14\n",
      "15\n",
      "16\n",
      "17\n",
      "18\n",
      "19\n",
      "20\n"
     ]
    }
   ],
   "source": [
    "# exercise\n",
    "for value in range(1,21):\n",
    "    print(value)"
   ]
  },
  {
   "cell_type": "code",
   "execution_count": 1,
   "metadata": {},
   "outputs": [
    {
     "name": "stdout",
     "output_type": "stream",
     "text": [
      "1\n",
      "2\n",
      "3\n",
      "4\n",
      "5\n",
      "6\n",
      "7\n",
      "8\n",
      "9\n",
      "10\n",
      "11\n",
      "12\n",
      "13\n",
      "14\n",
      "15\n",
      "16\n",
      "17\n",
      "18\n",
      "19\n",
      "20\n",
      "21\n",
      "22\n",
      "23\n",
      "24\n",
      "25\n",
      "26\n",
      "27\n",
      "28\n",
      "29\n",
      "30\n",
      "31\n",
      "32\n",
      "33\n",
      "34\n",
      "35\n",
      "36\n",
      "37\n",
      "38\n",
      "39\n",
      "40\n",
      "41\n",
      "42\n",
      "43\n",
      "44\n",
      "45\n",
      "46\n",
      "47\n",
      "48\n",
      "49\n",
      "50\n",
      "51\n",
      "52\n",
      "53\n",
      "54\n",
      "55\n",
      "56\n",
      "57\n",
      "58\n",
      "59\n",
      "60\n",
      "61\n",
      "62\n",
      "63\n",
      "64\n",
      "65\n",
      "66\n",
      "67\n",
      "68\n",
      "69\n",
      "70\n",
      "71\n",
      "72\n",
      "73\n",
      "74\n",
      "75\n",
      "76\n",
      "77\n",
      "78\n",
      "79\n",
      "80\n",
      "81\n",
      "82\n",
      "83\n",
      "84\n",
      "85\n",
      "86\n",
      "87\n",
      "88\n",
      "89\n",
      "90\n",
      "91\n",
      "92\n",
      "93\n",
      "94\n",
      "95\n",
      "96\n",
      "97\n",
      "98\n",
      "99\n"
     ]
    }
   ],
   "source": [
    "numbers = [value for value in range(1,100)]\n",
    "for value in numbers:\n",
    "    print(value)"
   ]
  },
  {
   "cell_type": "code",
   "execution_count": 3,
   "metadata": {},
   "outputs": [
    {
     "name": "stdout",
     "output_type": "stream",
     "text": [
      "1\n",
      "3\n",
      "5\n",
      "7\n",
      "9\n",
      "11\n",
      "13\n",
      "15\n",
      "17\n",
      "19\n"
     ]
    }
   ],
   "source": [
    "numbers = [value for value in range(1,20,2)]\n",
    "# the second index is the step\n",
    "for value in numbers:\n",
    "    print(value)"
   ]
  },
  {
   "cell_type": "code",
   "execution_count": 2,
   "metadata": {},
   "outputs": [
    {
     "name": "stdout",
     "output_type": "stream",
     "text": [
      "3\n",
      "6\n",
      "9\n",
      "12\n",
      "15\n",
      "18\n",
      "21\n",
      "24\n",
      "27\n"
     ]
    }
   ],
   "source": [
    "numbers = [value for value in range(3,30,3)]\n",
    "for value in numbers:\n",
    "    print(value)"
   ]
  },
  {
   "cell_type": "code",
   "execution_count": 4,
   "metadata": {},
   "outputs": [
    {
     "name": "stdout",
     "output_type": "stream",
     "text": [
      "1\n",
      "8\n",
      "27\n",
      "64\n",
      "125\n",
      "216\n",
      "343\n",
      "512\n",
      "729\n",
      "1000\n"
     ]
    }
   ],
   "source": [
    "numbers = [value**3 for value in range(1,11)]\n",
    "for value in numbers:\n",
    "    print(value)"
   ]
  },
  {
   "cell_type": "code",
   "execution_count": 12,
   "metadata": {},
   "outputs": [
    {
     "name": "stdout",
     "output_type": "stream",
     "text": [
      "[]\n",
      "['tomatoes', 'MUTTON']\n",
      "['tomatoes', 'MUTTON', 'AND VEGETABLES']\n",
      "tomatoes\n",
      "['pineapple', 'beef', 'tomatoes', 'MUTTON']\n",
      "['MUTTON', 'AND VEGETABLES']\n"
     ]
    }
   ],
   "source": [
    "pizzas =['pineapple','beef','tomatoes','MUTTON','AND VEGETABLES']\n",
    "print(pizzas[2:1])\n",
    "print(pizzas[2:4])\n",
    "print(pizzas[2:])\n",
    "print(pizzas[2])\n",
    "print(pizzas[:4])\n",
    "print(pizzas[-2:])"
   ]
  },
  {
   "cell_type": "code",
   "execution_count": 15,
   "metadata": {},
   "outputs": [
    {
     "name": "stdout",
     "output_type": "stream",
     "text": [
      "tomatoes\n",
      "MUTTON\n",
      "AND VEGETABLES\n"
     ]
    }
   ],
   "source": [
    "pizzas =['pineapple','beef','tomatoes','MUTTON','AND VEGETABLES']\n",
    "for pizza in pizzas[-3:]:\n",
    "    print(pizza)"
   ]
  },
  {
   "cell_type": "code",
   "execution_count": 17,
   "metadata": {},
   "outputs": [
    {
     "name": "stdout",
     "output_type": "stream",
     "text": [
      "['pineapple', 'beef', 'tomatoes', 'MUTTON', 'AND VEGETABLES', 'brisket']\n",
      "['pineapple', 'beef', 'tomatoes', 'MUTTON', 'AND VEGETABLES']\n"
     ]
    }
   ],
   "source": [
    "pizzas =['pineapple','beef','tomatoes','MUTTON','AND VEGETABLES']\n",
    "anotherPizza = pizzas[:]\n",
    "pizzas.append('brisket')\n",
    "print(pizzas)\n",
    "print(anotherPizza)"
   ]
  },
  {
   "cell_type": "code",
   "execution_count": null,
   "metadata": {},
   "outputs": [],
   "source": [
    "pizzas =['pineapple','beef','tomatoes','MUTTON','AND VEGETABLES']\n",
    "anotherPizza = pizzas[:]\n",
    "pizzas.append('brisket')\n",
    "anotherPizza.append('noodles')\n",
    "print(pizzas)\n",
    "print(anotherPizza)"
   ]
  }
 ],
 "metadata": {
  "kernelspec": {
   "display_name": "Python 3.10.7 64-bit",
   "language": "python",
   "name": "python3"
  },
  "language_info": {
   "codemirror_mode": {
    "name": "ipython",
    "version": 3
   },
   "file_extension": ".py",
   "mimetype": "text/x-python",
   "name": "python",
   "nbconvert_exporter": "python",
   "pygments_lexer": "ipython3",
   "version": "3.10.7"
  },
  "orig_nbformat": 4,
  "vscode": {
   "interpreter": {
    "hash": "aee8b7b246df8f9039afb4144a1f6fd8d2ca17a180786b69acc140d282b71a49"
   }
  }
 },
 "nbformat": 4,
 "nbformat_minor": 2
}
