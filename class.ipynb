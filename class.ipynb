{
 "cells": [
  {
   "cell_type": "code",
   "execution_count": 27,
   "metadata": {},
   "outputs": [
    {
     "name": "stdout",
     "output_type": "stream",
     "text": [
      "my dog's name is Will.\n",
      "my dog's age is 6.\n",
      "Will is now sitting\n",
      "Will is now rolling over\n"
     ]
    }
   ],
   "source": [
    "class Dog():\n",
    "    def __init__(self, name, age):\n",
    "        self.name = name\n",
    "        self.age =  age\n",
    "    \n",
    "    def sit(self):\n",
    "        print(self.name.title() + \" is now sitting\")\n",
    "    \n",
    "    def roll_over(self):\n",
    "        print(self.name.title() + \" is now rolling over\")\n",
    "\n",
    "my_dog = Dog('will', 6)\n",
    "print(\"my dog's name is \" + my_dog.name.title() + \".\")\n",
    "print(\"my dog's age is \" + str(my_dog.age) + \".\")\n",
    "my_dog.sit()\n",
    "my_dog.roll_over()"
   ]
  },
  {
   "cell_type": "code",
   "execution_count": 28,
   "metadata": {},
   "outputs": [
    {
     "name": "stdout",
     "output_type": "stream",
     "text": [
      "the cuisine type ofhello is Chinese food\n",
      "the cuisine type ofbonjour is french food\n",
      "the cuisine type ofhalo is spanish food\n"
     ]
    }
   ],
   "source": [
    "class Restaurant():\n",
    "    def __init__(self, restaurant_name, cuisine_type):\n",
    "        self.restaurant_name = restaurant_name\n",
    "        self.cuisine_type = cuisine_type\n",
    "    \n",
    "    def describe_restaurant(self):\n",
    "        print(\"the cuisine type of\" + self.restaurant_name + \" is \" + self.cuisine_type)\n",
    "    \n",
    "    def open_restaurant(self):\n",
    "        print(self.restaurant_name + \" is open.\" )\n",
    "restaurant_one = Restaurant('hello', 'Chinese food')\n",
    "restaurant_one.describe_restaurant()\n",
    "restaurant_two = Restaurant('bonjour', 'french food')\n",
    "restaurant_two.describe_restaurant()\n",
    "restaurant_three = Restaurant('halo', 'spanish food')\n",
    "restaurant_three.describe_restaurant()"
   ]
  },
  {
   "cell_type": "code",
   "execution_count": 56,
   "metadata": {},
   "outputs": [
    {
     "name": "stdout",
     "output_type": "stream",
     "text": [
      "this is the info of one user lily green\n",
      "this is the info of one user Lily Green\n",
      "this is the info of one user lily wang\n",
      "this is the info of one user Lily Wang\n"
     ]
    }
   ],
   "source": [
    "class User():\n",
    "    def __init__(self, first_name, last_name):\n",
    "        self.first_name = first_name\n",
    "        self.last_name = last_name\n",
    "    \n",
    "    def describe_user(self):\n",
    "        print(\"this is the info of one user \" + self.first_name + \" \" + self.last_name)\n",
    "    \n",
    "    def greet_user(self):\n",
    "        print(\"this is the info of one user \" + self.first_name.title()+ \" \"  + self.last_name.title())\n",
    "\n",
    "one_user = User('lily', 'green')\n",
    "two_user = User('lily', 'wang')\n",
    "one_user.describe_user()\n",
    "one_user.greet_user()\n",
    "two_user.describe_user()\n",
    "two_user.greet_user()"
   ]
  },
  {
   "cell_type": "code",
   "execution_count": 30,
   "metadata": {},
   "outputs": [
    {
     "name": "stdout",
     "output_type": "stream",
     "text": [
      "this car has 0 miles on it\n"
     ]
    }
   ],
   "source": [
    "class Car():\n",
    "    def __init__(self, make, model, year):\n",
    "        self.make = make\n",
    "        self.model =  model\n",
    "        self.year = year\n",
    "        self.odometer_reading = 0\n",
    "    def get_descriptive_name(self):\n",
    "        long_name = str(self.year) + ' ' + self.make  + ' ' + self.model\n",
    "        return long_name.title()\n",
    "    def read_odometer(self):\n",
    "        print(\"this car has \" + str(self.odometer_reading) +\" miles on it\")\n",
    "my_new_car = Car('audi', 'a3', 2016)\n",
    "my_new_car.get_descriptive_name()\n",
    "my_new_car.read_odometer()\n",
    "# print(my_new_car.get_descriptive_name())"
   ]
  },
  {
   "cell_type": "code",
   "execution_count": 31,
   "metadata": {},
   "outputs": [
    {
     "name": "stdout",
     "output_type": "stream",
     "text": [
      "this car has 23 miles on it\n"
     ]
    }
   ],
   "source": [
    "# 修改属性的值\n",
    "class Car():\n",
    "    def __init__(self, make, model, year):\n",
    "        self.make = make\n",
    "        self.model =  model\n",
    "        self.year = year\n",
    "        self.odometer_reading = 0\n",
    "    def get_descriptive_name(self):\n",
    "        long_name = str(self.year) + ' ' + self.make  + ' ' + self.model\n",
    "        return long_name.title()\n",
    "    def read_odometer(self):\n",
    "        print(\"this car has \" + str(self.odometer_reading) +\" miles on it\")\n",
    "my_new_car = Car('audi', 'a3', 2016)\n",
    "my_new_car.get_descriptive_name()\n",
    "my_new_car.odometer_reading = 23\n",
    "my_new_car.read_odometer()"
   ]
  },
  {
   "cell_type": "code",
   "execution_count": 32,
   "metadata": {},
   "outputs": [
    {
     "data": {
      "text/plain": [
       "'2016 Audi A3'"
      ]
     },
     "execution_count": 32,
     "metadata": {},
     "output_type": "execute_result"
    }
   ],
   "source": [
    "# 修改属性的值\n",
    "class Car():\n",
    "    def __init__(self, make, model, year):\n",
    "        self.make = make\n",
    "        self.model =  model\n",
    "        self.year = year\n",
    "        self.odometer_reading = 0\n",
    "    def get_descriptive_name(self):\n",
    "        long_name = str(self.year) + ' ' + self.make  + ' ' + self.model\n",
    "        return long_name.title()\n",
    "    def read_odometer(self):\n",
    "        print(\"this car has \" + str(self.odometer_reading) +\" miles on it\")\n",
    "my_new_car = Car('audi', 'a3', 2016)\n",
    "my_new_car.get_descriptive_name()"
   ]
  },
  {
   "cell_type": "code",
   "execution_count": 35,
   "metadata": {},
   "outputs": [
    {
     "name": "stdout",
     "output_type": "stream",
     "text": [
      "this car has 230 miles on it\n"
     ]
    }
   ],
   "source": [
    "# 修改属性的值\n",
    "class Car():\n",
    "    def __init__(self, make, model, year):\n",
    "        self.make = make\n",
    "        self.model =  model\n",
    "        self.year = year\n",
    "        self.odometer_reading = 0\n",
    "    def get_descriptive_name(self):\n",
    "        long_name = str(self.year) + ' ' + self.make  + ' ' + self.model\n",
    "        return long_name.title()\n",
    "    def read_odometer(self):\n",
    "        print(\"this car has \" + str(self.odometer_reading) +\" miles on it\")\n",
    "    def update_odometer(self, mileage):\n",
    "        if mileage >= self.odometer_reading:\n",
    "            self.odometer_reading = mileage\n",
    "        else:\n",
    "            print(\"you can't roll back an odometer\")\n",
    "my_new_car = Car('audi', 'a3', 2016)\n",
    "my_new_car.get_descriptive_name()\n",
    "my_new_car.update_odometer(230)\n",
    "my_new_car.read_odometer()"
   ]
  },
  {
   "cell_type": "code",
   "execution_count": 41,
   "metadata": {},
   "outputs": [
    {
     "name": "stdout",
     "output_type": "stream",
     "text": [
      "this car has 230 miles on it\n",
      "this car has 460 miles on it\n",
      "this car has 460 miles on it\n"
     ]
    }
   ],
   "source": [
    " # 修改属性的值\n",
    "class Car():\n",
    "    def __init__(self, make, model, year):\n",
    "        self.make = make\n",
    "        self.model =  model\n",
    "        self.year = year\n",
    "        self.odometer_reading = 0\n",
    "    def get_descriptive_name(self):\n",
    "        long_name = str(self.year) + ' ' + self.make  + ' ' + self.model\n",
    "        return long_name.title()\n",
    "    def read_odometer(self):\n",
    "        print(\"this car has \" + str(self.odometer_reading) +\" miles on it\")\n",
    "    def update_odometer(self, mileage):\n",
    "        if mileage >= self.odometer_reading:\n",
    "            self.odometer_reading = mileage\n",
    "        else:\n",
    "            print(\"you can't roll back an odometer\")\n",
    "    def increment_odometer(self, miles):\n",
    "        if miles > 0:\n",
    "            self.odometer_reading += miles\n",
    "my_new_car = Car('audi', 'a3', 2016)\n",
    "my_new_car.get_descriptive_name()\n",
    "my_new_car.increment_odometer(230)\n",
    "my_new_car.read_odometer()\n",
    "my_new_car.increment_odometer(230)\n",
    "my_new_car.read_odometer()\n",
    "my_new_car.increment_odometer(-230)\n",
    "my_new_car.read_odometer()"
   ]
  },
  {
   "cell_type": "code",
   "execution_count": 47,
   "metadata": {},
   "outputs": [
    {
     "name": "stdout",
     "output_type": "stream",
     "text": [
      "the number of served customers is 10\n",
      "the number of served customers is 110\n",
      "you can't roll back a number\n",
      "the number of served customers is 210\n"
     ]
    }
   ],
   "source": [
    "class Restaurant():\n",
    "    def __init__(self, restaurant_name, cuisine_type):\n",
    "        self.restaurant_name = restaurant_name\n",
    "        self.cuisine_type = cuisine_type\n",
    "        self.number_served = 0\n",
    "\n",
    "    def describe_restaurant(self):\n",
    "        print(\"the cuisine type of\" + self.restaurant_name + \" is \" + self.cuisine_type)\n",
    "    \n",
    "    def open_restaurant(self):\n",
    "        print(self.restaurant_name + \" is open.\" )\n",
    "\n",
    "    def set_number_served(self, number):\n",
    "        if number > self.number_served:\n",
    "            self.number_served = number\n",
    "            print(\"the number of served customers is \" + str(self.number_served))\n",
    "        else:\n",
    "            print(\"you can't roll back a number\")\n",
    "    def increment_number_served(self, number):\n",
    "        if number > 0:\n",
    "            self.number_served += number\n",
    "            print(\"the number of served customers is \" + str(self.number_served))\n",
    "        else:\n",
    "            print(\"you can't roll back a number\")\n",
    "\n",
    "restaurant_one = Restaurant('hello', 'Chinese food')\n",
    "restaurant_one.set_number_served(10)\n",
    "restaurant_one.increment_number_served(100)\n",
    "restaurant_one.set_number_served(10)\n",
    "restaurant_one.increment_number_served(100)"
   ]
  },
  {
   "cell_type": "code",
   "execution_count": 62,
   "metadata": {},
   "outputs": [
    {
     "name": "stdout",
     "output_type": "stream",
     "text": [
      "this the login attempts of this user: 12\n",
      "this the login attempts of this user is 0 \n",
      "this the login attempts of this user: 22\n",
      "this the login attempts of this user is 0 \n"
     ]
    }
   ],
   "source": [
    "class User():\n",
    "    def __init__(self, first_name, last_name):\n",
    "        self.first_name = first_name\n",
    "        self.last_name = last_name\n",
    "        self.login_attempts = 0\n",
    "    \n",
    "    def describe_user(self):\n",
    "        print(\"this is the info of one user \" + self.first_name + \" \" + self.last_name)\n",
    "    \n",
    "    def greet_user(self):\n",
    "        print(\"this is the info of one user \" + self.first_name.title()+ \" \"  + self.last_name.title())\n",
    "    \n",
    "    def increment_login_attempts(self, number):\n",
    "        self.login_attempts += number\n",
    "        print(\"this the login attempts of this user: \" + str(number))\n",
    "    \n",
    "    def reset_login_attempts(self):\n",
    "        self.login_attempts = 0\n",
    "        print(\"this the login attempts of this user is 0 \")\n",
    "\n",
    "one_user = User('lily', 'green')\n",
    "one_user.increment_login_attempts(12)\n",
    "one_user.reset_login_attempts()\n",
    "one_user.increment_login_attempts(22)\n",
    "one_user.reset_login_attempts()"
   ]
  },
  {
   "cell_type": "code",
   "execution_count": 63,
   "metadata": {},
   "outputs": [
    {
     "name": "stdout",
     "output_type": "stream",
     "text": [
      "2016 Tesla Model S\n"
     ]
    }
   ],
   "source": [
    "# 继承, super() 是一个特殊函数，把python将父类和子类关联起来，这行代码让python调用父类的方法__init__\n",
    "# 让子类实例包含父类的所有属性，父类也被称为超类superclass\n",
    "class Car():\n",
    "    def __init__(self, make, model, year):\n",
    "        self.make = make\n",
    "        self.model =  model\n",
    "        self.year = year\n",
    "        self.odometer_reading = 0\n",
    "    def get_descriptive_name(self):\n",
    "        long_name = str(self.year) + ' ' + self.make  + ' ' + self.model\n",
    "        return long_name.title()\n",
    "    def read_odometer(self):\n",
    "        print(\"this car has \" + str(self.odometer_reading) +\" miles on it\")\n",
    "    def update_odometer(self, mileage):\n",
    "        if mileage >= self.odometer_reading:\n",
    "            self.odometer_reading = mileage\n",
    "        else:\n",
    "            print(\"you can't roll back an odometer\")\n",
    "    def increment_odometer(self, miles):\n",
    "        if miles > 0:\n",
    "            self.odometer_reading += miles\n",
    "\n",
    "class ElectricCar(Car):\n",
    "    # super\n",
    "    def __init__(self, make, model, year):\n",
    "        super().__init__(make, model, year)\n",
    "\n",
    "my_tesla = ElectricCar('tesla', 'model s', 2016)\n",
    "print(my_tesla.get_descriptive_name())\n"
   ]
  },
  {
   "cell_type": "code",
   "execution_count": 65,
   "metadata": {},
   "outputs": [
    {
     "name": "stdout",
     "output_type": "stream",
     "text": [
      "2016 Tesla Model S\n",
      "this car has a 70-kWh bettery\n"
     ]
    }
   ],
   "source": [
    "class Car():\n",
    "    def __init__(self, make, model, year):\n",
    "        self.make = make\n",
    "        self.model =  model\n",
    "        self.year = year\n",
    "        self.odometer_reading = 0\n",
    "    def get_descriptive_name(self):\n",
    "        long_name = str(self.year) + ' ' + self.make  + ' ' + self.model\n",
    "        return long_name.title()\n",
    "    def read_odometer(self):\n",
    "        print(\"this car has \" + str(self.odometer_reading) +\" miles on it\")\n",
    "    def update_odometer(self, mileage):\n",
    "        if mileage >= self.odometer_reading:\n",
    "            self.odometer_reading = mileage\n",
    "        else:\n",
    "            print(\"you can't roll back an odometer\")\n",
    "    def increment_odometer(self, miles):\n",
    "        if miles > 0:\n",
    "            self.odometer_reading += miles\n",
    "\n",
    "class ElectricCar(Car):\n",
    "    # super\n",
    "    def __init__(self, make, model, year):\n",
    "        super().__init__(make, model, year)\n",
    "        self.battery_size = 70\n",
    "    \n",
    "    def describe_battery(self):\n",
    "        print(\"this car has a \" + str(self.battery_size) + \"-kWh bettery\")\n",
    "\n",
    "my_tesla = ElectricCar('tesla', 'model s', 2016)\n",
    "print(my_tesla.get_descriptive_name())\n",
    "my_tesla.describe_battery()"
   ]
  },
  {
   "cell_type": "code",
   "execution_count": 97,
   "metadata": {},
   "outputs": [
    {
     "name": "stdout",
     "output_type": "stream",
     "text": [
      "this car can go about 285 miles on a full charge\n"
     ]
    }
   ],
   "source": [
    "# rewrite 子类中和父类同名的方法会直接执行子类的方法，直接忽略父类的方法\n",
    "# 将实例作为属性\n",
    "class Car():\n",
    "    def __init__(self, make, model, year):\n",
    "        self.make = make\n",
    "        self.model =  model\n",
    "        self.year = year\n",
    "        self.odometer_reading = 0\n",
    "    def get_descriptive_name(self):\n",
    "        long_name = str(self.year) + ' ' + self.make  + ' ' + self.model\n",
    "        return long_name.title()\n",
    "    def read_odometer(self):\n",
    "        print(\"this car has \" + str(self.odometer_reading) +\" miles on it\")\n",
    "    def update_odometer(self, mileage):\n",
    "        if mileage >= self.odometer_reading:\n",
    "            self.odometer_reading = mileage\n",
    "        else:\n",
    "            print(\"you can't roll back an odometer\")\n",
    "    def increment_odometer(self, miles):\n",
    "        if miles > 0:\n",
    "            self.odometer_reading += miles\n",
    "\n",
    "class Battery():\n",
    "    def __init__(self, battery_size=70):\n",
    "        self.battery_size =  battery_size\n",
    "    \n",
    "    def describe_battery(self):\n",
    "        print(\"this car has a \" + str(self.battery_size) + \"-kWh bettery\")\n",
    "    \n",
    "    def get_range(self):\n",
    "        if self.battery_size == 70:\n",
    "            range = 240\n",
    "        elif self.battery_size == 85:\n",
    "            range = 285\n",
    "        message = \"this car can go about \" + str(range) + \" miles on a full charge\"\n",
    "        print(message)\n",
    "    \n",
    "    def update_battery(self):\n",
    "        if self.battery_size != 85:\n",
    "           self.battery_size = 85\n",
    "        \n",
    "class ElectricCar(Car):\n",
    "    def __init__(self, make, model, year):\n",
    "        super().__init__(make, model, year)\n",
    "        # 将实例作为属性\n",
    "        self.battery = Battery()\n",
    "\n",
    "# my_tesla = ElectricCar('tesla', 'model s', 2016)\n",
    "# print(my_tesla.get_descriptive_name())\n",
    "# my_tesla.battery.describe_battery()\n",
    "# my_tesla.battery.get_range()\n",
    "\n",
    "my_tesla2 = ElectricCar('tesla', 'x', 2020)\n",
    "my_tesla2.battery.update_battery()\n",
    "my_tesla2.battery.get_range()"
   ]
  },
  {
   "cell_type": "code",
   "execution_count": 80,
   "metadata": {},
   "outputs": [
    {
     "name": "stdout",
     "output_type": "stream",
     "text": [
      "['chocolate', 'strawberry']\n",
      "chocolate is the one you picked\n",
      "strawberry is the one you picked\n"
     ]
    }
   ],
   "source": [
    "class Restaurant():\n",
    "    def __init__(self, restaurant_name, cuisine_type):\n",
    "        self.restaurant_name = restaurant_name\n",
    "        self.cuisine_type = cuisine_type\n",
    "        self.number_served = 0\n",
    "\n",
    "    def describe_restaurant(self):\n",
    "        print(\"the cuisine type of\" + self.restaurant_name + \" is \" + self.cuisine_type)\n",
    "    \n",
    "    def open_restaurant(self):\n",
    "        print(self.restaurant_name + \" is open.\" )\n",
    "\n",
    "    def set_number_served(self, number):\n",
    "        if number > self.number_served:\n",
    "            self.number_served = number\n",
    "            print(\"the number of served customers is \" + str(self.number_served))\n",
    "        else:\n",
    "            print(\"you can't roll back a number\")\n",
    "    def increment_number_served(self, number):\n",
    "        if number > 0:\n",
    "            self.number_served += number\n",
    "            print(\"the number of served customers is \" + str(self.number_served))\n",
    "        else:\n",
    "            print(\"you can't roll back a number\")\n",
    "\n",
    "class IceCreamStand(Restaurant):\n",
    "    def __init__(self, restaurant_name, cuisine_type):\n",
    "        super().__init__(restaurant_name, cuisine_type)\n",
    "        self.flavors = ['chocolate', 'strawberry']\n",
    "    \n",
    "    def show_iceCream_flavor(self):\n",
    "        print(self.flavors)\n",
    "        if self.flavors:\n",
    "            for flavor in self.flavors:\n",
    "                print(flavor + \" is the one you picked\")\n",
    "    \n",
    "my_iceCream = IceCreamStand('Luneur', 'sweet')\n",
    "my_iceCream.show_iceCream_flavor()\n",
    " "
   ]
  },
  {
   "cell_type": "code",
   "execution_count": 87,
   "metadata": {},
   "outputs": [
    {
     "name": "stdout",
     "output_type": "stream",
     "text": [
      "this is the privilege \"can add post\" .\n",
      "this is the privilege \"can delete post\" .\n",
      "this is the privilege \"can ban user\" .\n"
     ]
    }
   ],
   "source": [
    "class User():\n",
    "    def __init__(self, first_name, last_name):\n",
    "        self.first_name = first_name\n",
    "        self.last_name = last_name\n",
    "        self.login_attempts = 0\n",
    "    \n",
    "    def describe_user(self):\n",
    "        print(\"this is the info of one user \" + self.first_name + \" \" + self.last_name)\n",
    "    \n",
    "    def greet_user(self):\n",
    "        print(\"this is the info of one user \" + self.first_name.title()+ \" \"  + self.last_name.title())\n",
    "    \n",
    "    def increment_login_attempts(self, number):\n",
    "        self.login_attempts += number\n",
    "        print(\"this the login attempts of this user: \" + str(number))\n",
    "    \n",
    "    def reset_login_attempts(self):\n",
    "        self.login_attempts = 0\n",
    "        print(\"this the login attempts of this user is 0 \")\n",
    "\n",
    "class Admin(User):\n",
    "    def __init__(self, first_name, last_name):\n",
    "        super().__init__(first_name, last_name)\n",
    "        self.privileges = [\"can add post\", \"can delete post\", \"can ban user\"]\n",
    "    \n",
    "    def show_privileges(self):\n",
    "        for privilege in self.privileges:\n",
    "            print( \"this is the privilege \" + \"\\\"\" + privilege + \"\\\" \" + \".\")\n",
    "\n",
    "one_admin = Admin('lily', 'green')\n",
    "one_admin.show_privileges()\n",
    "    \n"
   ]
  },
  {
   "cell_type": "code",
   "execution_count": 90,
   "metadata": {},
   "outputs": [
    {
     "name": "stdout",
     "output_type": "stream",
     "text": [
      "this is the privilege \"can add post\" .\n",
      "this is the privilege \"can delete post\" .\n",
      "this is the privilege \"can ban user\" .\n"
     ]
    }
   ],
   "source": [
    "class User():\n",
    "    def __init__(self, first_name, last_name):\n",
    "        self.first_name = first_name\n",
    "        self.last_name = last_name\n",
    "        self.login_attempts = 0\n",
    "    \n",
    "    def describe_user(self):\n",
    "        print(\"this is the info of one user \" + self.first_name + \" \" + self.last_name)\n",
    "    \n",
    "    def greet_user(self):\n",
    "        print(\"this is the info of one user \" + self.first_name.title()+ \" \"  + self.last_name.title())\n",
    "    \n",
    "    def increment_login_attempts(self, number):\n",
    "        self.login_attempts += number\n",
    "        print(\"this the login attempts of this user: \" + str(number))\n",
    "    \n",
    "    def reset_login_attempts(self):\n",
    "        self.login_attempts = 0\n",
    "        print(\"this the login attempts of this user is 0 \")\n",
    "\n",
    "class Privileges():\n",
    "    def __init__(self):\n",
    "        self.privileges = [\"can add post\", \"can delete post\", \"can ban user\"]\n",
    "    \n",
    "    def show_privileges(self):\n",
    "        for privilege in self.privileges:\n",
    "            print( \"this is the privilege \" + \"\\\"\" + privilege + \"\\\" \" + \".\")\n",
    "\n",
    "class Admin(User):\n",
    "    def __init__(self, first_name, last_name):\n",
    "        super().__init__(first_name, last_name)\n",
    "        self.privileges = Privileges()\n",
    "    \n",
    "    def show_privileges(self):\n",
    "        for privilege in self.privileges:\n",
    "            print( \"this is the privilege \" + \"\\\"\" + privilege + \"\\\" \" + \".\")\n",
    "\n",
    "one_admin = Admin('lily', 'green')\n",
    "one_admin.privileges.show_privileges()"
   ]
  },
  {
   "cell_type": "code",
   "execution_count": null,
   "metadata": {},
   "outputs": [],
   "source": [
    "from random import randint\n",
    "\n",
    "class Die():\n",
    "    def __init__(self, sides=6):\n",
    "        self.sides = sides\n",
    "    \n",
    "    def roll_die(self):\n",
    "        for i in range(1, 11):  #xunh\n",
    "            x = randint(1 ,self.sides)\n",
    "            print(x)\n",
    "\n",
    "# one = Die()\n",
    "# one.roll_die()\n",
    "# two = Die(10)\n",
    "# two.roll_die()\n",
    "three = Die(20)\n",
    "three.roll_die()"
   ]
  }
 ],
 "metadata": {
  "kernelspec": {
   "display_name": "Python 3.10.7 64-bit",
   "language": "python",
   "name": "python3"
  },
  "language_info": {
   "codemirror_mode": {
    "name": "ipython",
    "version": 3
   },
   "file_extension": ".py",
   "mimetype": "text/x-python",
   "name": "python",
   "nbconvert_exporter": "python",
   "pygments_lexer": "ipython3",
   "version": "3.10.7"
  },
  "orig_nbformat": 4,
  "vscode": {
   "interpreter": {
    "hash": "aee8b7b246df8f9039afb4144a1f6fd8d2ca17a180786b69acc140d282b71a49"
   }
  }
 },
 "nbformat": 4,
 "nbformat_minor": 2
}
