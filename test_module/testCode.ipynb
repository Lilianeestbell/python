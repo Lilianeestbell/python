{
 "cells": [
  {
   "cell_type": "code",
   "execution_count": 3,
   "metadata": {},
   "outputs": [
    {
     "data": {
      "text/plain": [
       "'chengdu , china'"
      ]
     },
     "execution_count": 3,
     "metadata": {},
     "output_type": "execute_result"
    }
   ],
   "source": [
    "# test codes\n",
    "def city_function(city_name, country_name):\n",
    "    return city_name + \" , \" + country_name\n",
    "\n",
    "city_function('chengdu', 'china')\n"
   ]
  },
  {
   "cell_type": "code",
   "execution_count": 3,
   "metadata": {},
   "outputs": [
    {
     "name": "stdout",
     "output_type": "stream",
     "text": [
      "Enter 'q' at any time to quit.\n",
      "\n",
      "\n",
      "Thank you to everyone who participated in the survey!\n",
      "survey result:\n",
      " - sdfsf\n"
     ]
    }
   ],
   "source": [
    "class AnonymousSurvey():\n",
    "    def __init__(self, question):\n",
    "        self.question = question\n",
    "        self.responses = []\n",
    "    \n",
    "    def show_question(self):\n",
    "        print(self.question)\n",
    "     \n",
    "    def store_response(self, new_response):\n",
    "        self.responses.append(new_response)\n",
    "    \n",
    "    def show_results(self):\n",
    "        print(\"survey result:\")\n",
    "        for response in self.responses:\n",
    "            print(' - ' + response)\n",
    "\n",
    "question = \"What language did you first learn to speak?\"\n",
    "my_survey = AnonymousSurvey(question)\n",
    "print(\"Enter 'q' at any time to quit.\\n\")\n",
    "while True:\n",
    "    response = input(\"Language: \")\n",
    "    if response == 'q':\n",
    "        break\n",
    "    my_survey.store_response(response)\n",
    "\n",
    "print(\"\\nThank you to everyone who participated in the survey!\")\n",
    "my_survey.show_results()\n"
   ]
  },
  {
   "cell_type": "code",
   "execution_count": 3,
   "metadata": {},
   "outputs": [
    {
     "name": "stdout",
     "output_type": "stream",
     "text": [
      "9000\n"
     ]
    }
   ],
   "source": [
    "class Employee():\n",
    "    def __init__(self, first_name, last_name, salary):\n",
    "        self.first_name = first_name\n",
    "        self.last_name = last_name\n",
    "        self.salary = salary\n",
    "    \n",
    "    def give_raise(self, added_salary):\n",
    "        self.salary += added_salary\n",
    "\n",
    "one_employee = Employee('lily', 'brown', 2000)\n",
    "one_employee.give_raise(7000)\n",
    "print(one_employee.salary)"
   ]
  }
 ],
 "metadata": {
  "kernelspec": {
   "display_name": "Python 3.10.7 64-bit",
   "language": "python",
   "name": "python3"
  },
  "language_info": {
   "codemirror_mode": {
    "name": "ipython",
    "version": 3
   },
   "file_extension": ".py",
   "mimetype": "text/x-python",
   "name": "python",
   "nbconvert_exporter": "python",
   "pygments_lexer": "ipython3",
   "version": "3.10.7"
  },
  "orig_nbformat": 4,
  "vscode": {
   "interpreter": {
    "hash": "aee8b7b246df8f9039afb4144a1f6fd8d2ca17a180786b69acc140d282b71a49"
   }
  }
 },
 "nbformat": 4,
 "nbformat_minor": 2
}
