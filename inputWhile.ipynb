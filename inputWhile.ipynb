{
 "cells": [
  {
   "cell_type": "code",
   "execution_count": null,
   "metadata": {},
   "outputs": [],
   "source": [
    "message = input(\"tell me about your hobby\")\n",
    "print(message)"
   ]
  },
  {
   "cell_type": "code",
   "execution_count": null,
   "metadata": {},
   "outputs": [],
   "source": [
    "prompt = \"if you tell us who you are,we can personalize the message you see\"\n",
    "prompt += \"\\n what is your first name? \"\n",
    "name = input(prompt)\n",
    "print(\"\\n Hello, \" + name + \"!\")"
   ]
  },
  {
   "cell_type": "code",
   "execution_count": null,
   "metadata": {},
   "outputs": [],
   "source": [
    "# exercise\n",
    "car = input(\"which car do you want\")\n",
    "print(\"let me see if i can find you a \" + car)"
   ]
  },
  {
   "cell_type": "code",
   "execution_count": null,
   "metadata": {},
   "outputs": [],
   "source": [
    "people_number = input(\"how many people? \")\n",
    "if int(people_number) > 8:\n",
    "    print(\"There is no table available\")\n",
    "else:\n",
    "    print(\"There is a table\")\n"
   ]
  },
  {
   "cell_type": "code",
   "execution_count": null,
   "metadata": {},
   "outputs": [],
   "source": [
    "current_number = 1\n",
    "while current_number <= 4:\n",
    "    print(current_number)\n",
    "    current_number += 1"
   ]
  },
  {
   "cell_type": "code",
   "execution_count": null,
   "metadata": {},
   "outputs": [],
   "source": [
    "prompt = \"\\n Tell me something, and i will repeat it back to you: \"\n",
    "prompt += \"\\n Enter 'quit' to end the problem\"\n",
    "message = \"\"\n",
    "while message != 'quit':\n",
    "    message = input(prompt)\n",
    "    print(message)"
   ]
  },
  {
   "cell_type": "code",
   "execution_count": null,
   "metadata": {},
   "outputs": [],
   "source": [
    "prompt = \"\\n Tell me something, and i will repeat it back to you: \"\n",
    "prompt += \"\\n Enter 'quit' to end the problem\"\n",
    "message = \"\"\n",
    "while message != 'quit':\n",
    "    message = input(prompt)\n",
    "    if message != 'quit':\n",
    "        print(message)"
   ]
  },
  {
   "cell_type": "code",
   "execution_count": null,
   "metadata": {},
   "outputs": [],
   "source": [
    "prompt = \"\\n Tell me something, and i will repeat it back to you: \"\n",
    "prompt += \"\\n Enter 'quit' to end the problem\"\n",
    "message = \"\"\n",
    "active = True\n",
    "while active:\n",
    "    message = input(prompt)\n",
    "    if message != 'quit':\n",
    "        active = False\n",
    "    else:\n",
    "        print(message)"
   ]
  },
  {
   "cell_type": "code",
   "execution_count": null,
   "metadata": {},
   "outputs": [
    {
     "name": "stdout",
     "output_type": "stream",
     "text": [
      "i'd love to visit the Hel!\n",
      "i'd love to visit the Hek!\n"
     ]
    }
   ],
   "source": [
    "# break\n",
    "prompt = \"\\n Tell me your favorite city: \"\n",
    "prompt += \"\\n Enter 'quit' to end\"\n",
    "active = True\n",
    "while active:\n",
    "    city = input(prompt)\n",
    "    if city == 'quit':\n",
    "        break\n",
    "    elif city:\n",
    "        print(\"i'd love to visit the \" + city.title()+ \"!\")"
   ]
  },
  {
   "cell_type": "code",
   "execution_count": null,
   "metadata": {},
   "outputs": [
    {
     "name": "stdout",
     "output_type": "stream",
     "text": [
      "1\n",
      "3\n",
      "5\n",
      "7\n",
      "9\n"
     ]
    }
   ],
   "source": [
    "# continue\n",
    "current_number = 0 \n",
    "while current_number < 10:\n",
    "    current_number += 1\n",
    "    if current_number %2 == 0:\n",
    "        continue\n",
    "    print(current_number)"
   ]
  },
  {
   "cell_type": "code",
   "execution_count": null,
   "metadata": {},
   "outputs": [],
   "source": [
    "prompt = \"\\n Tell me what you want add on the pizza: \"\n",
    "prompt += \"\\n Enter 'quit' to end\"\n",
    "topping = \"\"\n",
    "while topping != 'quit':\n",
    "    topping = input(prompt)\n",
    "    if topping != 'quit' and topping:\n",
    "        print(\"the \" + topping + \" you choose was added\" )\n",
    "    else:\n",
    "        break"
   ]
  },
  {
   "cell_type": "code",
   "execution_count": null,
   "metadata": {},
   "outputs": [
    {
     "name": "stdout",
     "output_type": "stream",
     "text": [
      "the hell you choose was added\n",
      "the hekko you choose was added\n",
      "the  you choose was added\n",
      "the  you choose was added\n",
      "the  you choose was added\n",
      "the  you choose was added\n",
      "the  you choose was added\n",
      "the  you choose was added\n",
      "the  you choose was added\n",
      "the  you choose was added\n",
      "the  you choose was added\n",
      "the  you choose was added\n",
      "the  you choose was added\n",
      "the  you choose was added\n",
      "the  you choose was added\n",
      "the  you choose was added\n",
      "the  you choose was added\n",
      "the hekk you choose was added\n"
     ]
    }
   ],
   "source": [
    "prompt = \"\\n Tell me what you want add on the pizza: \"\n",
    "prompt += \"\\n Enter 'quit' to end\"\n",
    "active = True\n",
    "while active:\n",
    "    topping = input(prompt)\n",
    "    if topping != 'quit' and topping:\n",
    "        print(\"the \" + topping + \" you choose was added\" )\n",
    "    else: \n",
    "        active = False\n",
    "        break"
   ]
  },
  {
   "cell_type": "code",
   "execution_count": null,
   "metadata": {},
   "outputs": [
    {
     "name": "stdout",
     "output_type": "stream",
     "text": [
      "the price is 15\n"
     ]
    }
   ],
   "source": [
    "prompt = \"tell me the info of your age:\"\n",
    "age = input(prompt)\n",
    "price = 0\n",
    "if int(age) > 12:\n",
    "    price = 15\n",
    "elif 12 > int(age) > 3:\n",
    "    price = 10\n",
    "print(\"the price is \"+ str(price))"
   ]
  },
  {
   "cell_type": "code",
   "execution_count": 1,
   "metadata": {},
   "outputs": [
    {
     "name": "stdout",
     "output_type": "stream",
     "text": [
      "the price is 10\n"
     ]
    }
   ],
   "source": [
    "# it will break down if there isn't break in the elif\n",
    "prompt = \"tell me the info of your age:\"\n",
    "age = input(prompt)\n",
    "price = 0\n",
    "active = True\n",
    "while active:\n",
    "    if age == 'quit':\n",
    "        active = False\n",
    "        break\n",
    "    elif int(age) > 12:\n",
    "        price = 15\n",
    "        print(\"the price is \"+ str(price))\n",
    "        break\n",
    "    elif 12 >= int(age) >= 3:\n",
    "        price = 10\n",
    "        print(\"the price is \"+ str(price))\n",
    "        break\n",
    "    else:\n",
    "        print(\"the price is \"+ str(price))\n",
    "        break"
   ]
  },
  {
   "cell_type": "code",
   "execution_count": 4,
   "metadata": {},
   "outputs": [
    {
     "name": "stdout",
     "output_type": "stream",
     "text": [
      "verifying users: Samantha\n",
      "verifying users: Carry\n",
      "verifying users: Bob\n",
      "verifying users: Alex\n",
      "\n",
      " the following users have been confirmed\n",
      "Samantha\n",
      "Carry\n",
      "Bob\n",
      "Alex\n"
     ]
    }
   ],
   "source": [
    "unconfirmed_users = ['alex', 'bob', 'carry', 'samantha']\n",
    "confirmed_users=[]\n",
    "while unconfirmed_users:\n",
    "    current_user = unconfirmed_users.pop()\n",
    "    print(\"verifying users: \"+ current_user.title())\n",
    "    confirmed_users.append(current_user)\n",
    "print(\"\\n the following users have been confirmed\")\n",
    "for confirmed_user in confirmed_users:\n",
    "    print(confirmed_user.title())"
   ]
  },
  {
   "cell_type": "code",
   "execution_count": 6,
   "metadata": {},
   "outputs": [
    {
     "name": "stdout",
     "output_type": "stream",
     "text": [
      "['dog', 'cat', 'rabbit', 'dog']\n",
      "['cat', 'rabbit']\n"
     ]
    }
   ],
   "source": [
    "pets = ['dog', 'cat', 'rabbit','dog']\n",
    "print(pets)\n",
    "while 'dog' in pets:\n",
    "    pets.remove('dog')\n",
    "print(pets)"
   ]
  },
  {
   "cell_type": "code",
   "execution_count": 12,
   "metadata": {},
   "outputs": [
    {
     "name": "stdout",
     "output_type": "stream",
     "text": [
      "there are results:----\n",
      "lily would like to climbocean.\n",
      " would like to climb.\n"
     ]
    }
   ],
   "source": [
    "responses = {}\n",
    "active = True\n",
    "while active:\n",
    "    name = input(\"what's your name\")\n",
    "    response = input('which mountain would you like to climb someday')\n",
    "    responses[name] = response\n",
    "    repeat = input(\"would you like to let another person to respond(yes/no)\")\n",
    "    if repeat == 'no':\n",
    "        active = False\n",
    "    else:\n",
    "        break\n",
    "print(\"there are results:----\")\n",
    "for name, response in responses.items():\n",
    "    print(name+ \" would like to climb\" + response + \".\")"
   ]
  },
  {
   "cell_type": "code",
   "execution_count": null,
   "metadata": {},
   "outputs": [],
   "source": [
    "# 按照书上的解释的正确的缩进形式\n",
    "responses = {}\n",
    "active = True\n",
    "while active:\n",
    "    name = input(\"what's your name\")\n",
    "    response = input('which mountain would you like to climb someday')\n",
    "    responses[name] = response\n",
    "    repeat = input(\"would you like to let another person to respond(yes/no)\")\n",
    "    if repeat == 'no':\n",
    "        active = False\n",
    "        print(\"there are results:----\")\n",
    "        for name, response in responses.items():\n",
    "            print(name+ \" would like to climb\" + response + \".\")"
   ]
  },
  {
   "cell_type": "code",
   "execution_count": 16,
   "metadata": {},
   "outputs": [
    {
     "name": "stdout",
     "output_type": "stream",
     "text": [
      "the pastrami was sold out\n",
      "i have made pineapple!\n",
      "i have made mutton!\n",
      "i have made beef!\n",
      "i have made peanuts_cheese_pineapple!\n",
      "i have made tomato_beef_cheese!\n"
     ]
    }
   ],
   "source": [
    "sandwich_orders = ['tomato_beef_cheese','pastrami', 'peanuts_cheese_pineapple','pastrami', 'beef', 'mutton','pineapple', 'pastrami']\n",
    "finished_orders = []\n",
    "print(\"the pastrami was sold out\")\n",
    "while 'pastrami' in sandwich_orders:\n",
    "    sandwich_orders.remove('pastrami')\n",
    "while sandwich_orders:\n",
    "    current_order = sandwich_orders.pop()\n",
    "    print(\"i have made \" + current_order + \"!\")\n",
    "    finished_orders.append(current_order)"
   ]
  },
  {
   "cell_type": "code",
   "execution_count": 18,
   "metadata": {},
   "outputs": [
    {
     "name": "stdout",
     "output_type": "stream",
     "text": [
      "there are results:----\n",
      "lily would like to visit london.\n",
      "bob would like to visit puri.\n"
     ]
    }
   ],
   "source": [
    "dream_resorts = {}\n",
    "active = True\n",
    "while active:\n",
    "    name = input(\"what's your name\")\n",
    "    place = input('which place would you like to visit someday')\n",
    "    dream_resorts[name] = place\n",
    "    repeat = input(\"would you like to let another person to respond(yes/no)\")\n",
    "    if repeat == 'no':\n",
    "        active = False\n",
    "        print(\"there are results:----\")\n",
    "        for name, place in dream_resorts.items():\n",
    "            print(name+ \" would like to visit \" + place + \".\")"
   ]
  }
 ],
 "metadata": {
  "kernelspec": {
   "display_name": "Python 3.7.2 64-bit",
   "language": "python",
   "name": "python3"
  },
  "language_info": {
   "codemirror_mode": {
    "name": "ipython",
    "version": 3
   },
   "file_extension": ".py",
   "mimetype": "text/x-python",
   "name": "python",
   "nbconvert_exporter": "python",
   "pygments_lexer": "ipython3",
   "version": "3.7.2"
  },
  "orig_nbformat": 4,
  "vscode": {
   "interpreter": {
    "hash": "f5812bf74338cfdcf86eebf5ddfaf3941b51f365639c0156a8f0a20f36d43fb1"
   }
  }
 },
 "nbformat": 4,
 "nbformat_minor": 2
}
