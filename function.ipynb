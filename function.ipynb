{
 "cells": [
  {
   "cell_type": "code",
   "execution_count": null,
   "metadata": {},
   "outputs": [],
   "source": [
    "def greet_user():\n",
    "    print('hello')\n",
    "greet_user()"
   ]
  },
  {
   "cell_type": "code",
   "execution_count": 2,
   "metadata": {},
   "outputs": [
    {
     "name": "stdout",
     "output_type": "stream",
     "text": [
      "hello lily\n"
     ]
    }
   ],
   "source": [
    "def greet_user(userName):\n",
    "    print(\"hello \" + userName)\n",
    "greet_user('lily')"
   ]
  },
  {
   "cell_type": "code",
   "execution_count": null,
   "metadata": {},
   "outputs": [],
   "source": [
    "def display_message():\n",
    "    print(\"the chapter you're learning is function\")\n",
    "display_message()"
   ]
  },
  {
   "cell_type": "code",
   "execution_count": null,
   "metadata": {},
   "outputs": [],
   "source": [
    "def favorite_book(book):\n",
    "    print(\"one of my favorite book is \" + book)\n",
    "favorite_book('harry potter')\n"
   ]
  },
  {
   "cell_type": "code",
   "execution_count": null,
   "metadata": {},
   "outputs": [],
   "source": [
    "def describe_pet(animalType, pet_name):\n",
    "    print(\"\\n i have a \"+ animalType + \".\")\n",
    "    print(\"\\n my favorite \"+ animalType + \"'s name is \"+ pet_name.title())\n",
    "describe_pet('dog', 'helen')"
   ]
  },
  {
   "cell_type": "code",
   "execution_count": null,
   "metadata": {},
   "outputs": [],
   "source": [
    "def describe_pet(animalType, pet_name):\n",
    "    print(\"\\n i have a \"+ animalType + \".\")\n",
    "    print(\"\\n my favorite \"+ animalType + \"'s name is \"+ pet_name.title())\n",
    "describe_pet(animalType = 'dog', pet_name = 'helen')"
   ]
  },
  {
   "cell_type": "code",
   "execution_count": null,
   "metadata": {},
   "outputs": [],
   "source": [
    "def describe_pet(animalType, pet_name='hello'):\n",
    "    print(\"\\n i have a \"+ animalType + \".\")\n",
    "    print(\"\\n my favorite \"+ animalType + \"'s name is \"+ pet_name.title())\n",
    "describe_pet('dog')"
   ]
  },
  {
   "cell_type": "code",
   "execution_count": null,
   "metadata": {},
   "outputs": [],
   "source": [
    "def describe_pet(animalType=\"hamster\", pet_name='hello'):\n",
    "    print(\"\\n i have a \"+ animalType + \".\")\n",
    "    print(\"\\n my favorite \"+ animalType + \"'s name is \"+ pet_name.title())\n",
    "describe_pet(animalType = 'dog', pet_name = 'helen')"
   ]
  },
  {
   "cell_type": "code",
   "execution_count": null,
   "metadata": {},
   "outputs": [],
   "source": [
    "# def describe_pet(animalType, pet_name='hello'):\n",
    "#     print(\"\\n i have a \"+ animalType + \".\")\n",
    "#     print(\"\\n my favorite \"+ animalType + \"'s name is \"+ pet_name.title())\n",
    "# describe_pet()"
   ]
  },
  {
   "cell_type": "code",
   "execution_count": null,
   "metadata": {},
   "outputs": [],
   "source": [
    "# def describe_pet(animalType, pet_name='hello'):\n",
    "#     print(\"\\n i have a \"+ animalType + \".\")\n",
    "#     print(\"\\n my favorite \"+ animalType + \"'s name is \"+ pet_name.title())\n",
    "# describe_pet('jelly','cat', 'fine')"
   ]
  },
  {
   "cell_type": "code",
   "execution_count": null,
   "metadata": {},
   "outputs": [],
   "source": [
    "def make_shirt(size=\"large\", letter=\"I love python\"):\n",
    "    print(\"The shirt is \" + size + \" and the title on the shirt is \"+ letter)\n",
    "make_shirt(\"large\", \"Hello you're the sun\")\n",
    "make_shirt()\n",
    "make_shirt(\"medium\")\n",
    "make_shirt(letter=\"nothing matters\")"
   ]
  },
  {
   "cell_type": "code",
   "execution_count": null,
   "metadata": {},
   "outputs": [],
   "source": [
    "def describe_city(name,country=\"us\"):\n",
    "    print(name + \" is in \" + country)\n",
    "describe_city('sh', 'China')\n",
    "describe_city('sh')"
   ]
  },
  {
   "cell_type": "code",
   "execution_count": null,
   "metadata": {},
   "outputs": [],
   "source": [
    "def get_formatted_name(firstName, lastName):\n",
    "    full_name = firstName + \" \" +lastName\n",
    "    return full_name.title()\n",
    "musician = get_formatted_name('unknown', \"Mozart\")\n",
    "print(musician)"
   ]
  },
  {
   "cell_type": "code",
   "execution_count": null,
   "metadata": {},
   "outputs": [],
   "source": [
    "def get_formatted_name(firstName, lastName, middle_name=\" \"):\n",
    "    full_name = firstName + middle_name + lastName\n",
    "    return full_name.title()\n",
    "musician = get_formatted_name('unknown', \"Mozart\")\n",
    "print(musician)"
   ]
  },
  {
   "cell_type": "code",
   "execution_count": null,
   "metadata": {},
   "outputs": [],
   "source": [
    "# python regard no-empty string as True\n",
    "def get_formatted_name(firstName, lastName, middle_name=\" \"):\n",
    "    person = {\n",
    "        'first': firstName,\n",
    "        'last': lastName,\n",
    "    }\n",
    "    if middle_name:\n",
    "        person['middle'] = middle_name\n",
    "    return person\n",
    "musician = get_formatted_name('unknown', \"Mozart\", 'john')\n",
    "print(musician)"
   ]
  },
  {
   "cell_type": "code",
   "execution_count": 53,
   "metadata": {},
   "outputs": [
    {
     "name": "stdout",
     "output_type": "stream",
     "text": [
      "please tell me your name:\n",
      "()enter 'q' at any time to quit\n",
      "hello, Berry Chan\n",
      "please tell me your name:\n",
      "()enter 'q' at any time to quit\n"
     ]
    }
   ],
   "source": [
    "def get_formatted_name(firstName, lastName):\n",
    "    full_name = firstName + \" \" +lastName\n",
    "    return full_name.title()\n",
    "while True:\n",
    "    print(\"please tell me your name:\")\n",
    "    print(\"()enter 'q' at any time to quit\")\n",
    "    f_name = input(\"First name: \")\n",
    "    if f_name == 'q':\n",
    "        break\n",
    "    last_name = input(\"Last name: \")\n",
    "    if last_name == 'q':\n",
    "        break\n",
    "    formatted_name = get_formatted_name(f_name, last_name)\n",
    "    print(\"hello, \" + formatted_name)"
   ]
  },
  {
   "cell_type": "code",
   "execution_count": 49,
   "metadata": {},
   "outputs": [
    {
     "data": {
      "text/plain": [
       "{'name': 'lana da ley', 'album_name': 'young and beautiful', 'songNumber': 10}"
      ]
     },
     "execution_count": 49,
     "metadata": {},
     "output_type": "execute_result"
    }
   ],
   "source": [
    "def make_album(singer_name, album_name, song_number = ''):\n",
    "    album = {\n",
    "        'name': singer_name,\n",
    "        'album_name': album_name,\n",
    "    }\n",
    "    if song_number:\n",
    "        album['songNumber'] = song_number\n",
    "    return album\n",
    "make_album('lana da ley', 'young and beautiful')\n",
    "make_album('lana da ley', 'young and beautiful', 10)"
   ]
  },
  {
   "cell_type": "code",
   "execution_count": 52,
   "metadata": {},
   "outputs": [
    {
     "name": "stdout",
     "output_type": "stream",
     "text": [
      "please enter some info about songs(enter q to quit)\n",
      "{'name': 'jay chou', 'album_name': 'still fatastic'}\n",
      "please enter some info about songs(enter q to quit)\n"
     ]
    }
   ],
   "source": [
    "def make_album(singer_name, album_name, song_number = ''):\n",
    "    album = {\n",
    "        'name': singer_name,\n",
    "        'album_name': album_name,\n",
    "    }\n",
    "    if song_number:\n",
    "        album['songNumber'] = song_number\n",
    "    return album\n",
    "while True:\n",
    "    print(\"please enter some info about songs(enter q to quit)\")\n",
    "    s_name = input(\"please Enter one singer \")\n",
    "    if s_name == 'q':\n",
    "        break\n",
    "    a_name = input(\"please enter one album(enter q to quit)\")\n",
    "    if a_name == 'q':\n",
    "        break\n",
    "    albumInfo = make_album(s_name, a_name)\n",
    "    print(albumInfo)"
   ]
  },
  {
   "cell_type": "code",
   "execution_count": 56,
   "metadata": {},
   "outputs": [
    {
     "name": "stdout",
     "output_type": "stream",
     "text": [
      "Hello, Lucy.\n",
      "Hello, Lily.\n",
      "Hello, Carry.\n"
     ]
    }
   ],
   "source": [
    "def greet_user(names):\n",
    "    for name in names:\n",
    "        msg = \"Hello, \" + name.title() + \".\"\n",
    "        print(msg)\n",
    "greet_user(['lucy', 'lily', 'carry'])"
   ]
  },
  {
   "cell_type": "code",
   "execution_count": 57,
   "metadata": {},
   "outputs": [
    {
     "name": "stdout",
     "output_type": "stream",
     "text": [
      "printing modeling: fish\n",
      "printing modeling: robot\n",
      "printing modeling: iphone\n",
      "the following models have been printed:\n",
      "fish\n",
      "robot\n",
      "iphone\n"
     ]
    }
   ],
   "source": [
    "unprinted_ones = ['iphone', 'robot', 'fish']\n",
    "completed_ones = []\n",
    "while unprinted_ones:\n",
    "    current_ones = unprinted_ones.pop()\n",
    "    print((\"printing modeling: \" + current_ones))\n",
    "    completed_ones.append(current_ones)\n",
    "print(\"the following models have been printed:\")\n",
    "for completed_one in completed_ones:\n",
    "    print(completed_one)"
   ]
  },
  {
   "cell_type": "code",
   "execution_count": 62,
   "metadata": {},
   "outputs": [
    {
     "name": "stdout",
     "output_type": "stream",
     "text": [
      "printing modeling: fish\n",
      "printing modeling: robot\n",
      "printing modeling: iphone\n",
      "the following models have been printed:\n",
      "fish\n",
      "robot\n",
      "iphone\n"
     ]
    }
   ],
   "source": [
    "def print_model(unprinted_ones, completed_ones):\n",
    "    while unprinted_ones:\n",
    "        current_ones = unprinted_ones.pop()\n",
    "        print((\"printing modeling: \" + current_ones))\n",
    "        completed_ones.append(current_ones)\n",
    "    print(\"the following models have been printed:\")\n",
    "def show_completed(completed_ones):\n",
    "    for completed_one in completed_ones:\n",
    "        print(completed_one)\n",
    "unprinted_Models = ['iphone', 'robot', 'fish']\n",
    "completed_Models = []\n",
    "print_model(unprinted_Models[:], completed_Models)\n",
    "show_completed(completed_Models)"
   ]
  },
  {
   "cell_type": "code",
   "execution_count": 65,
   "metadata": {},
   "outputs": [
    {
     "name": "stdout",
     "output_type": "stream",
     "text": [
      "the great helen\n",
      "the great lilith\n",
      "the great susan\n"
     ]
    }
   ],
   "source": [
    "def show_magicians(magicians_names):\n",
    "    for magician in magicians_names:\n",
    "        print(\"the great \" + magician)\n",
    "show_magicians(['helen', 'lilith','susan'])"
   ]
  },
  {
   "cell_type": "code",
   "execution_count": 74,
   "metadata": {},
   "outputs": [
    {
     "name": "stdout",
     "output_type": "stream",
     "text": [
      "the great susan\n",
      "the great lilith\n",
      "the great helen\n"
     ]
    }
   ],
   "source": [
    "def show_magicians(magicians_names):\n",
    "    for magician in magicians_names:\n",
    "        print(magician)\n",
    "\n",
    "def make_magicians(magicians_names):\n",
    "    current_magicians = []\n",
    "    while magicians_names:\n",
    "        current = magicians_names.pop()\n",
    "        current_magicians.append(\"the great \" + current)\n",
    "    # for magician in magicians_names:\n",
    "    #     current_magicians.append(\"the great \" + magician)\n",
    "    show_magicians(current_magicians)\n",
    "my_magicians = ['helen', 'lilith','susan']\n",
    "make_magicians(my_magicians)\n",
    "show_magicians(my_magicians)"
   ]
  }
 ],
 "metadata": {
  "kernelspec": {
   "display_name": "Python 3.10.7 64-bit",
   "language": "python",
   "name": "python3"
  },
  "language_info": {
   "codemirror_mode": {
    "name": "ipython",
    "version": 3
   },
   "file_extension": ".py",
   "mimetype": "text/x-python",
   "name": "python",
   "nbconvert_exporter": "python",
   "pygments_lexer": "ipython3",
   "version": "3.10.7"
  },
  "orig_nbformat": 4,
  "vscode": {
   "interpreter": {
    "hash": "aee8b7b246df8f9039afb4144a1f6fd8d2ca17a180786b69acc140d282b71a49"
   }
  }
 },
 "nbformat": 4,
 "nbformat_minor": 2
}
