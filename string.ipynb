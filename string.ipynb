{
 "cells": [
  {
   "cell_type": "code",
   "execution_count": 2,
   "metadata": {},
   "outputs": [
    {
     "name": "stdout",
     "output_type": "stream",
     "text": [
      "hello work\n"
     ]
    }
   ],
   "source": [
    "msg=\"hello work\"\n",
    "print(msg)"
   ]
  },
  {
   "cell_type": "code",
   "execution_count": 6,
   "metadata": {},
   "outputs": [
    {
     "name": "stdout",
     "output_type": "stream",
     "text": [
      "hello wife\n"
     ]
    }
   ],
   "source": [
    "msg=\"hello wife\"\n",
    "print(msg)"
   ]
  },
  {
   "cell_type": "code",
   "execution_count": 7,
   "metadata": {},
   "outputs": [
    {
     "name": "stdout",
     "output_type": "stream",
     "text": [
      "hey\n"
     ]
    }
   ],
   "source": [
    "print('hey')"
   ]
  },
  {
   "cell_type": "code",
   "execution_count": 10,
   "metadata": {},
   "outputs": [
    {
     "name": "stdout",
     "output_type": "stream",
     "text": [
      "Add Love To Myself More\n",
      "ADD LOVE TO MYSELF MORE\n",
      "add love to myself more\n"
     ]
    }
   ],
   "source": [
    "name = 'add love to MYSELF MORE'\n",
    "print(name.title()) \n",
    "# str.title()修改单词首字母的大小写/upper()全部大写/lower()全部小写\n",
    "print(name.upper())\n",
    "print(name.lower())"
   ]
  },
  {
   "cell_type": "code",
   "execution_count": 11,
   "metadata": {},
   "outputs": [
    {
     "name": "stdout",
     "output_type": "stream",
     "text": [
      "addLOVE\n"
     ]
    }
   ],
   "source": [
    "first_name=\"add\"\n",
    "last_name=\"LOVE\"\n",
    "full_name=f\"{first_name}{last_name}\"\n",
    "# f字符串是format的简写，用来把花括号里面的变量替换为其值来设置字符串的格式\n",
    "print(full_name)"
   ]
  },
  {
   "cell_type": "code",
   "execution_count": 14,
   "metadata": {},
   "outputs": [
    {
     "name": "stdout",
     "output_type": "stream",
     "text": [
      "HELLO,Addlove!\n"
     ]
    }
   ],
   "source": [
    "first_name=\"add\"\n",
    "last_name=\"LOVE\"\n",
    "full_name=f\"{first_name}{last_name}\"\n",
    "msg=f\"HELLO,{full_name.title()}!\"\n",
    "print(msg)"
   ]
  },
  {
   "cell_type": "code",
   "execution_count": 16,
   "metadata": {},
   "outputs": [
    {
     "name": "stdout",
     "output_type": "stream",
     "text": [
      "addLOVE\n",
      "hello,addLOVE\n"
     ]
    }
   ],
   "source": [
    "#f字符串是python3.6引入的，如果是3.5或者更早的版本是要用format()方法\n",
    "first_name=\"add\"\n",
    "last_name=\"LOVE\"\n",
    "full_name=\"{}{}\".format(first_name,last_name)\n",
    "# msg=f\"HELLO,{full_name.title()}!\"\n",
    "msg=\"hello,{}\".format(full_name)\n",
    "print(full_name)\n",
    "print(msg)"
   ]
  },
  {
   "cell_type": "code",
   "execution_count": 17,
   "metadata": {},
   "outputs": [
    {
     "name": "stdout",
     "output_type": "stream",
     "text": [
      "\n",
      "hello\n"
     ]
    }
   ],
   "source": [
    "print(\"\\nhello\")"
   ]
  },
  {
   "cell_type": "code",
   "execution_count": 18,
   "metadata": {},
   "outputs": [
    {
     "name": "stdout",
     "output_type": "stream",
     "text": [
      "\thello\n"
     ]
    }
   ],
   "source": [
    "print(\"\\thello\")"
   ]
  },
  {
   "cell_type": "code",
   "execution_count": 20,
   "metadata": {},
   "outputs": [
    {
     "name": "stdout",
     "output_type": "stream",
     "text": [
      "languages:\n",
      "\tPython\n",
      "\tC\n",
      "\tJava\n"
     ]
    }
   ],
   "source": [
    "print(\"languages:\\n\\tPython\\n\\tC\\n\\tJava\")"
   ]
  },
  {
   "cell_type": "code",
   "execution_count": 24,
   "metadata": {},
   "outputs": [
    {
     "name": "stdout",
     "output_type": "stream",
     "text": [
      "Javascript  python\n"
     ]
    }
   ],
   "source": [
    "favorite_language = 'Javascript  python  '\n",
    "print(favorite_language.rstrip())\n",
    "# rstrip()保证字符串末尾没有多余的空格，包括空格，换行，制表符 r是right\n",
    "# lstrip()保证字符串开头没有多余的空格 l是left\n",
    "# strip()是去除字符串首尾的空格"
   ]
  },
  {
   "cell_type": "code",
   "execution_count": 29,
   "metadata": {},
   "outputs": [
    {
     "name": "stdout",
     "output_type": "stream",
     "text": [
      " Javascript  \n",
      "Javascript  \n",
      " Javascript  \n",
      "Javascript  \n"
     ]
    }
   ],
   "source": [
    "favorite_language = ' Javascript  '\n",
    "print(favorite_language)\n",
    "print(favorite_language.lstrip())\n",
    "print(favorite_language)\n",
    "favorite_language = favorite_language.lstrip()\n",
    "print(favorite_language)"
   ]
  },
  {
   "cell_type": "code",
   "execution_count": 30,
   "metadata": {},
   "outputs": [
    {
     "name": "stdout",
     "output_type": "stream",
     "text": [
      "hello Eric,would you like to learn some Python tody\n"
     ]
    }
   ],
   "source": [
    "# exercise 2-3\n",
    "name = \"Eric\"\n",
    "print(f\"hello {name},would you like to learn some Python today\")"
   ]
  },
  {
   "cell_type": "code",
   "execution_count": 34,
   "metadata": {},
   "outputs": [
    {
     "name": "stdout",
     "output_type": "stream",
     "text": [
      "ERIC HELLO MUSK\n"
     ]
    }
   ],
   "source": [
    "personName = \"Eric hello Musk\"\n",
    "# print(personName.title())\n",
    "# print(personName.upper())\n",
    "# print(personName.lower())\n",
    "# print(personName)\n",
    "personName=personName.upper()\n",
    "print(personName)"
   ]
  },
  {
   "cell_type": "code",
   "execution_count": 35,
   "metadata": {},
   "outputs": [
    {
     "name": "stdout",
     "output_type": "stream",
     "text": [
      "Albert Einstein once said,\"A person who never made a mistake never tried anything new\"\n"
     ]
    }
   ],
   "source": [
    "saying = 'Albert Einstein once said,\"A person who never made a mistake never tried anything new\"'\n",
    "print(saying)"
   ]
  },
  {
   "cell_type": "code",
   "execution_count": 37,
   "metadata": {},
   "outputs": [
    {
     "name": "stdout",
     "output_type": "stream",
     "text": [
      "Lily once said,\"A person who never made a mistake never tried anything new\"\n"
     ]
    }
   ],
   "source": [
    "famous_person = 'Lily'\n",
    "# saying = f'{famous_person} once said,\"A person who never made a mistake never tried anything new\"'\n",
    "# print(saying)\n",
    "saying = '{} once said,\"A person who never made a mistake never tried anything new\"'.format(famous_person)\n",
    "print(saying)"
   ]
  },
  {
   "cell_type": "code",
   "execution_count": 41,
   "metadata": {},
   "outputs": [
    {
     "name": "stdout",
     "output_type": "stream",
     "text": [
      "Lily wang\n",
      "Lily Wang and her puppy Douglas\n",
      "\n",
      "\t Lily Wang and her puppy Douglas\n"
     ]
    }
   ],
   "source": [
    "name = \"\\t Lily Wang and her puppy Douglas\\n\"\n",
    "name_two = \"\\t Lily wang   \"\n",
    "print(name_two.strip())\n",
    "print(name.lstrip())\n",
    "print(name.rstrip())\n"
   ]
  }
 ],
 "metadata": {
  "interpreter": {
   "hash": "f5812bf74338cfdcf86eebf5ddfaf3941b51f365639c0156a8f0a20f36d43fb1"
  },
  "kernelspec": {
   "display_name": "Python 3.7.2 64-bit",
   "language": "python",
   "name": "python3"
  },
  "language_info": {
   "codemirror_mode": {
    "name": "ipython",
    "version": 3
   },
   "file_extension": ".py",
   "mimetype": "text/x-python",
   "name": "python",
   "nbconvert_exporter": "python",
   "pygments_lexer": "ipython3",
   "version": "3.7.2"
  },
  "orig_nbformat": 4
 },
 "nbformat": 4,
 "nbformat_minor": 2
}
