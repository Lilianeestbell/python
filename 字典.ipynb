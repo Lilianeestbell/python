{
 "cells": [
  {
   "cell_type": "code",
   "execution_count": 2,
   "metadata": {},
   "outputs": [
    {
     "name": "stdout",
     "output_type": "stream",
     "text": [
      "red\n"
     ]
    }
   ],
   "source": [
    "# like object in js\n",
    "alien = { 'color': 'red', 'points': 4}\n",
    "print(alien['color'])"
   ]
  },
  {
   "cell_type": "code",
   "execution_count": 5,
   "metadata": {},
   "outputs": [
    {
     "name": "stdout",
     "output_type": "stream",
     "text": [
      "{'x_position': 0, 'y_position': 20}\n"
     ]
    }
   ],
   "source": [
    "# in python, dictionary is a series of key-value things. \n",
    "# add\n",
    "alien = {}\n",
    "alien['x_position'] = 0\n",
    "alien['y_position'] = 20\n",
    "print(alien)"
   ]
  },
  {
   "cell_type": "code",
   "execution_count": 7,
   "metadata": {},
   "outputs": [
    {
     "name": "stdout",
     "output_type": "stream",
     "text": [
      "{'color': 'green', 'points': 4}\n"
     ]
    }
   ],
   "source": [
    "# update\n",
    "alien = { 'color': 'red', 'points': 4}\n",
    "alien['color'] = 'green'\n",
    "print(alien)"
   ]
  },
  {
   "cell_type": "code",
   "execution_count": 15,
   "metadata": {},
   "outputs": [
    {
     "name": "stdout",
     "output_type": "stream",
     "text": [
      "original x-position medium\n",
      "new x-position 2\n"
     ]
    }
   ],
   "source": [
    "alien_0 = {\n",
    "    'x_position': 0,\n",
    "    'y_position': 25,\n",
    "    'speed': 'medium',\n",
    "}\n",
    "print(\"original x-position \" + str(alien_0['speed']))\n",
    "if alien_0['speed'] == 'slow':\n",
    "    x_increment = 1\n",
    "elif alien_0['speed'] == 'medium':\n",
    "    x_increment = 2\n",
    "else:\n",
    "    x_increment = 3\n",
    "\n",
    "alien_0['x_position'] = alien_0['x_position'] + x_increment\n",
    "print(\"new x-position \" + str(alien_0['x_position']))"
   ]
  },
  {
   "cell_type": "code",
   "execution_count": 17,
   "metadata": {},
   "outputs": [
    {
     "name": "stdout",
     "output_type": "stream",
     "text": [
      "{'color': 'green', 'points': 4}\n"
     ]
    }
   ],
   "source": [
    "# delete  the key-value that you deleted was diminished forever\n",
    "alien_0 = {\n",
    "    'x_position': 0,\n",
    "    'y_position': 25,\n",
    "    'speed': 'medium',\n",
    "}\n",
    "del alien_0['speed']\n",
    "print(alien)"
   ]
  },
  {
   "cell_type": "code",
   "execution_count": 20,
   "metadata": {},
   "outputs": [
    {
     "name": "stdout",
     "output_type": "stream",
     "text": [
      "mingXin\n",
      "jinan\n",
      "27\n"
     ]
    }
   ],
   "source": [
    "# exercise\n",
    "bestFriend = {\n",
    "    'name': 'mingXin',\n",
    "    'age': 27,\n",
    "    'city': 'jinan'\n",
    "}\n",
    "print(bestFriend['name'] + '\\n' + bestFriend['city'] + '\\n' + str(bestFriend['age']))"
   ]
  },
  {
   "cell_type": "code",
   "execution_count": 37,
   "metadata": {},
   "outputs": [
    {
     "name": "stdout",
     "output_type": "stream",
     "text": [
      "Lily's color is: Darkblue\n",
      "Mingxin's color is: Lightblue\n",
      "Allen's color is: White\n",
      "Aaron's color is: Black\n",
      "Yiye's color is: Red\n"
     ]
    }
   ],
   "source": [
    "peopleFavoriteColor = {\n",
    "    'lily': 'darkblue',\n",
    "    'MingXin': 'lightblue',\n",
    "    'Allen': 'white',\n",
    "    'Aaron': 'black',\n",
    "    'YiYe': 'red',\n",
    "}\n",
    "# print(\"lily's favorite color is \" + peopleFavoriteColor['lily'])\n",
    "# print(\"MingXin's favorite color is \" + peopleFavoriteColor['MingXin'])\n",
    "# print(\"Allen's favorite color is \" + peopleFavoriteColor['Allen'])\n",
    "# print(\"Aaron's favorite color is \" + peopleFavoriteColor['Aaron'])\n",
    "# print(\"YiYe's favorite color is \" + peopleFavoriteColor['YiYe'])\n",
    "for name,color in peopleFavoriteColor.items():\n",
    "    print(name.title() + \"'s color is: \" + color.title())"
   ]
  },
  {
   "cell_type": "code",
   "execution_count": 40,
   "metadata": {},
   "outputs": [
    {
     "name": "stdout",
     "output_type": "stream",
     "text": [
      "List's meaning is: a kind of data structure to store a series of things\n",
      "Str's meaning is: string\n",
      "Tuple's meaning is: a list that cannot be changed\n",
      "Num's meaning is: number\n",
      "If's meaning is: a sentence to embark the judgement of conditions\n"
     ]
    }
   ],
   "source": [
    "words = {\n",
    "    'list': 'a kind of data structure to store a series of things',\n",
    "    'str': 'string',\n",
    "    'tuple': 'a list that cannot be changed',\n",
    "    'num': 'number',\n",
    "    'if': 'a sentence to embark the judgement of conditions'\n",
    "}\n",
    "for item,meaning in words.items():\n",
    "    print(item.title() + \"'s meaning is: \" + meaning)\n",
    "# print(\"list means:\" + '\\n' + words['list'])"
   ]
  },
  {
   "cell_type": "code",
   "execution_count": 29,
   "metadata": {},
   "outputs": [
    {
     "name": "stdout",
     "output_type": "stream",
     "text": [
      "list a kind of data structure to store a series of things\n",
      "str string\n",
      "tuple a list that cannot be changed\n",
      "num number\n",
      "if a sentence to embark the judgement of conditions\n"
     ]
    }
   ],
   "source": [
    "# 遍历字典 key+ value via for in + items()\n",
    "words = {\n",
    "    'list': 'a kind of data structure to store a series of things',\n",
    "    'str': 'string',\n",
    "    'tuple': 'a list that cannot be changed',\n",
    "    'num': 'number',\n",
    "    'if': 'a sentence to embark the judgement of conditions'\n",
    "}\n",
    "for key,value in words.items():\n",
    "    print(key,value)"
   ]
  },
  {
   "cell_type": "code",
   "execution_count": 30,
   "metadata": {},
   "outputs": [
    {
     "name": "stdout",
     "output_type": "stream",
     "text": [
      "Lily's favorite color is Darkblue.\n",
      "Mingxin's favorite color is Lightblue.\n",
      "Allen's favorite color is White.\n",
      "Aaron's favorite color is Black.\n",
      "Yiye's favorite color is Red.\n"
     ]
    }
   ],
   "source": [
    "peopleFavoriteColor = {\n",
    "    'lily': 'darkblue',\n",
    "    'MingXin': 'lightblue',\n",
    "    'Allen': 'white',\n",
    "    'Aaron': 'black',\n",
    "    'YiYe': 'red',\n",
    "}\n",
    "for name,color in peopleFavoriteColor.items():\n",
    "    print(name.title() + \"'s favorite color is \"+ color.title()+ \".\")"
   ]
  },
  {
   "cell_type": "code",
   "execution_count": 32,
   "metadata": {},
   "outputs": [
    {
     "name": "stdout",
     "output_type": "stream",
     "text": [
      "Lily\n",
      "Mingxin\n",
      "Allen\n",
      "Aaron\n",
      "Yiye\n"
     ]
    }
   ],
   "source": [
    "# 遍历keys only via for in + keys() or FOR  IN\n",
    "peopleFavoriteColor = {\n",
    "    'lily': 'darkblue',\n",
    "    'MingXin': 'lightblue',\n",
    "    'Allen': 'white',\n",
    "    'Aaron': 'black',\n",
    "    'YiYe': 'red',\n",
    "}\n",
    "# for name in peopleFavoriteColor.keys():\n",
    "#     print(name.title())\n",
    "for name in peopleFavoriteColor:\n",
    "    print(name.title())"
   ]
  },
  {
   "cell_type": "code",
   "execution_count": 33,
   "metadata": {},
   "outputs": [
    {
     "name": "stdout",
     "output_type": "stream",
     "text": [
      "Lily\n",
      "HiLily, I see your favorite color is Darkblue!\n",
      "Mingxin\n",
      "HiMingxin, I see your favorite color is Lightblue!\n",
      "Allen\n",
      "Aaron\n",
      "Yiye\n"
     ]
    }
   ],
   "source": [
    "peopleFavoriteColor = {\n",
    "    'lily': 'darkblue',\n",
    "    'MingXin': 'lightblue',\n",
    "    'Allen': 'white',\n",
    "    'Aaron': 'black',\n",
    "    'YiYe': 'red',\n",
    "}\n",
    "friends = ['lily', 'MingXin']\n",
    "for name in peopleFavoriteColor.keys():\n",
    "    print(name.title())\n",
    "    if name in friends:\n",
    "        print(\"Hi\" + name.title() + \", I see your favorite color is \" + peopleFavoriteColor[name].title() + \"!\")"
   ]
  },
  {
   "cell_type": "code",
   "execution_count": 34,
   "metadata": {},
   "outputs": [
    {
     "name": "stdout",
     "output_type": "stream",
     "text": [
      "Aaron\n",
      "Allen\n",
      "Mingxin\n",
      "Yiye\n",
      "Lily\n"
     ]
    }
   ],
   "source": [
    "# sorted() + for \n",
    "peopleFavoriteColor = {\n",
    "    'lily': 'darkblue',\n",
    "    'MingXin': 'lightblue',\n",
    "    'Allen': 'white',\n",
    "    'Aaron': 'black',\n",
    "    'YiYe': 'red',\n",
    "}\n",
    "friends = ['lily', 'MingXin']\n",
    "for name in sorted(peopleFavoriteColor.keys()):\n",
    "    print(name.title())"
   ]
  },
  {
   "cell_type": "code",
   "execution_count": 35,
   "metadata": {},
   "outputs": [
    {
     "name": "stdout",
     "output_type": "stream",
     "text": [
      "Darkblue\n",
      "Lightblue\n",
      "White\n",
      "Black\n",
      "Red\n"
     ]
    }
   ],
   "source": [
    "# 遍历values\n",
    "peopleFavoriteColor = {\n",
    "    'lily': 'darkblue',\n",
    "    'MingXin': 'lightblue',\n",
    "    'Allen': 'white',\n",
    "    'Aaron': 'black',\n",
    "    'YiYe': 'red',\n",
    "}\n",
    "friends = ['lily', 'MingXin']\n",
    "for name in peopleFavoriteColor.values():\n",
    "    print(name.title())"
   ]
  },
  {
   "cell_type": "code",
   "execution_count": 36,
   "metadata": {},
   "outputs": [
    {
     "name": "stdout",
     "output_type": "stream",
     "text": [
      "Lightblue\n",
      "Darkblue\n",
      "Black\n"
     ]
    }
   ],
   "source": [
    "# use set to get the unique value\n",
    "peopleFavoriteColor = {\n",
    "    'lily': 'darkblue',\n",
    "    'MingXin': 'lightblue',\n",
    "    'Allen': 'black',\n",
    "    'Aaron': 'black',\n",
    "    'YiYe': 'black',\n",
    "}\n",
    "friends = ['lily', 'MingXin']\n",
    "for color in set(peopleFavoriteColor.values()):\n",
    "    print(color.title())"
   ]
  },
  {
   "cell_type": "code",
   "execution_count": 43,
   "metadata": {},
   "outputs": [
    {
     "name": "stdout",
     "output_type": "stream",
     "text": [
      "TheAmazon runs through Pure\n",
      "TheYangtze runs through China\n",
      "TheNile runs through Egypt\n"
     ]
    }
   ],
   "source": [
    "# rivers = ['Amazon', 'Yangtze', 'huang', 'saltLake']\n",
    "rivers_countries = {\n",
    "    'Amazon': 'pure',\n",
    "    'Yangtze': 'china',\n",
    "    'Nile': 'egypt'\n",
    "}\n",
    "for river,country in rivers_countries.items():\n",
    "    print(\"The\" + river + \" runs through \"+ country.title())"
   ]
  },
  {
   "cell_type": "code",
   "execution_count": 44,
   "metadata": {},
   "outputs": [
    {
     "name": "stdout",
     "output_type": "stream",
     "text": [
      "Lily\n",
      "welcome to the partylily\n",
      "Mingxin\n",
      "welcome to the partyMingXin\n",
      "Allen\n",
      "please join the partyAllen\n",
      "Aaron\n",
      "please join the partyAaron\n",
      "Yiye\n",
      "please join the partyYiYe\n"
     ]
    }
   ],
   "source": [
    "peopleFavoriteColor = {\n",
    "    'lily': 'darkblue',\n",
    "    'MingXin': 'lightblue',\n",
    "    'Allen': 'white',\n",
    "    'Aaron': 'black',\n",
    "    'YiYe': 'red',\n",
    "}\n",
    "friends = ['lily', 'MingXin']\n",
    "for name in peopleFavoriteColor.keys():\n",
    "    print(name.title())\n",
    "    if name in friends: \n",
    "        print(\"welcome to the party\" + name)\n",
    "    else:\n",
    "        print(\"please join the party\" + name)\n"
   ]
  },
  {
   "cell_type": "code",
   "execution_count": 62,
   "metadata": {},
   "outputs": [
    {
     "name": "stdout",
     "output_type": "stream",
     "text": [
      "color:pink\n",
      "speed:fast\n",
      "points:3\n",
      "color:yellow\n",
      "speed:med\n",
      "points:3\n",
      "color:red\n",
      "speed:slow\n",
      "points:3\n"
     ]
    }
   ],
   "source": [
    "# 嵌套\n",
    "alien_0 = {\n",
    "    'color': 'pink',\n",
    "    'speed': 'fast',\n",
    "    'points': 3,\n",
    "}\n",
    "alien_1 = {\n",
    "    'color': 'yellow',\n",
    "    'speed': 'med',\n",
    "    'points': 3,\n",
    "}\n",
    "alien_2 = {\n",
    "    'color': 'red',\n",
    "    'speed': 'slow',\n",
    "    'points': 3,\n",
    "}\n",
    "aliens = [alien_0, alien_1, alien_2]\n",
    "for alien in aliens:\n",
    "    for item,value in alien.items():\n",
    "        print(item + \":\" + str(value))"
   ]
  },
  {
   "cell_type": "code",
   "execution_count": 50,
   "metadata": {},
   "outputs": [
    {
     "name": "stdout",
     "output_type": "stream",
     "text": [
      "{'color': 'yellow', 'speed': 'slow', 'points': 3}\n",
      "{'color': 'yellow', 'speed': 'slow', 'points': 3}\n",
      "{'color': 'yellow', 'speed': 'slow', 'points': 3}\n",
      "{'color': 'yellow', 'speed': 'slow', 'points': 3}\n",
      "{'color': 'yellow', 'speed': 'slow', 'points': 3}\n",
      "...\n"
     ]
    }
   ],
   "source": [
    "aliens = []\n",
    "for alien_number in range(30):\n",
    "    newAlien =  {\n",
    "    'color': 'yellow',\n",
    "    'speed': 'slow',\n",
    "    'points': 3,\n",
    "    }\n",
    "    aliens.append(newAlien)\n",
    "for alien in aliens[:5]:\n",
    "    print(alien)\n",
    "print(\"...\")"
   ]
  },
  {
   "cell_type": "code",
   "execution_count": 54,
   "metadata": {},
   "outputs": [
    {
     "name": "stdout",
     "output_type": "stream",
     "text": [
      "{'color': 'blue', 'speed': 'fast', 'points': 3, 'point': 10}\n",
      "{'color': 'blue', 'speed': 'fast', 'points': 3, 'point': 10}\n",
      "{'color': 'blue', 'speed': 'fast', 'points': 3, 'point': 10}\n",
      "{'color': 'yellow', 'speed': 'slow', 'points': 3}\n",
      "{'color': 'yellow', 'speed': 'slow', 'points': 3}\n"
     ]
    }
   ],
   "source": [
    "aliens = []\n",
    "for alien_number in range(30):\n",
    "    newAlien =  {\n",
    "    'color': 'yellow',\n",
    "    'speed': 'slow',\n",
    "    'points': 3,\n",
    "    }\n",
    "    aliens.append(newAlien)\n",
    "for alien in aliens[:3]:\n",
    "    if alien['color'] == 'yellow':\n",
    "        alien['color'] = 'blue'\n",
    "        alien['point'] = 10\n",
    "        alien['speed'] = 'fast'\n",
    "    elif alien['color'] == 'blue':\n",
    "        alien['point'] = 20\n",
    "        alien['speed'] = 'med'\n",
    "for alien in aliens[:5]:\n",
    "    print(alien)\n"
   ]
  },
  {
   "cell_type": "code",
   "execution_count": 57,
   "metadata": {},
   "outputs": [
    {
     "name": "stdout",
     "output_type": "stream",
     "text": [
      "You ordered a thick-crust pizzawith the following toppings:\n",
      "\tmushroom\n",
      "\textra cheese\n"
     ]
    }
   ],
   "source": [
    "pizza ={\n",
    "    'crust': 'thick',\n",
    "    'topping': ['mushroom', 'extra cheese']\n",
    "}\n",
    "print(\"You ordered a \" + pizza['crust'] + \"-crust pizza\" + \"with the following toppings:\")\n",
    "for topping in pizza['topping']:\n",
    "    print(\"\\t\" + topping)"
   ]
  },
  {
   "cell_type": "code",
   "execution_count": 60,
   "metadata": {},
   "outputs": [
    {
     "name": "stdout",
     "output_type": "stream",
     "text": [
      "darkblue\n",
      "pink\n",
      "red\n",
      "lightblue\n",
      "whitepink\n",
      "black\n",
      "red\n"
     ]
    }
   ],
   "source": [
    "peopleFavoriteColor = {\n",
    "    'lily': ['darkblue', 'pink', 'red'],\n",
    "    'MingXin': ['lightblue'],\n",
    "    'Allen': ['white' 'pink'],\n",
    "    'Aaron': ['black'],\n",
    "    'YiYe': ['red'],\n",
    "}\n",
    "for name, colors in peopleFavoriteColor.items():\n",
    "    if len(colors) > 1:\n",
    "        # for color in peopleFavoriteColor[name]:这样取值也ok\n",
    "        for color in colors:\n",
    "            print(color)\n",
    "    else:\n",
    "        print(colors[0])"
   ]
  },
  {
   "cell_type": "code",
   "execution_count": 74,
   "metadata": {},
   "outputs": [
    {
     "name": "stdout",
     "output_type": "stream",
     "text": [
      "petType\n",
      "dog\n",
      "name\n",
      "happy\n",
      "gender\n",
      "female\n",
      "hobbies\n",
      "running\n",
      "masterName\n",
      "MingXin\n",
      "petType\n",
      "cat\n",
      "name\n",
      "beauty\n",
      "gender\n",
      "female\n",
      "hobbies\n",
      "running\n",
      "masterName\n",
      "Lily\n",
      "petType\n",
      "snake\n",
      "name\n",
      "love\n",
      "gender\n",
      "female\n",
      "hobbies\n",
      "eating\n",
      "masterName\n",
      "unknown\n"
     ]
    }
   ],
   "source": [
    "pet0={\n",
    "    'petType': 'dog',\n",
    "    'name': 'happy',\n",
    "    'gender': 'female',\n",
    "    'hobbies':'running',\n",
    "    \"masterName\": 'MingXin',\n",
    "}\n",
    "pet1 ={\n",
    "    \"petType\": 'cat',\n",
    "    \"name\": 'beauty',\n",
    "    \"gender\": 'female',\n",
    "    \"hobbies\": 'running',\n",
    "    \"masterName\": 'Lily',\n",
    "}\n",
    "pet2 ={\n",
    "    'petType': 'snake',\n",
    "    'name': 'love',\n",
    "    'gender': 'female',\n",
    "    'hobbies': 'eating',\n",
    "    'masterName': 'unknown',\n",
    "}\n",
    "pets = [pet0, pet1, pet2]\n",
    "for pet in pets:\n",
    "    for eachPet, detail in pet.items():\n",
    "        print(eachPet + \"\\n\" + detail)\n"
   ]
  },
  {
   "cell_type": "code",
   "execution_count": 78,
   "metadata": {},
   "outputs": [
    {
     "name": "stdout",
     "output_type": "stream",
     "text": [
      "lily's favorite places is Dalian\n",
      "lily's favorite places is Paris\n",
      "lily's favorite places is leon\n",
      "MingXin's favorite places is tokyo\n",
      "YiYe's favorite places is hkshanghai\n"
     ]
    }
   ],
   "source": [
    "favorite_places ={\n",
    "    'lily': ['Dalian', 'Paris', 'leon'],\n",
    "    'MingXin': ['tokyo'],\n",
    "    'YiYe': ['hk' 'shanghai'],\n",
    "}\n",
    "for name, places in favorite_places.items():\n",
    "    for place in places:\n",
    "        print(name+ \"'s favorite places is \" +place)\n"
   ]
  },
  {
   "cell_type": "code",
   "execution_count": 83,
   "metadata": {},
   "outputs": [
    {
     "name": "stdout",
     "output_type": "stream",
     "text": [
      "sh\n",
      "country China\n",
      "population 230000000\n",
      "fact need virus tests now\n",
      "Paris\n",
      "country France\n",
      "population 13000000\n",
      "fact no need of virus tests now\n",
      "tokyo\n",
      "country Japan\n",
      "population 20000000\n",
      "fact no need of virus tests now\n"
     ]
    }
   ],
   "source": [
    "cities = {\n",
    "    'sh': {\n",
    "        'country': 'China',\n",
    "        'population': 230_000_000,\n",
    "        'fact': 'need virus tests now',\n",
    "    },\n",
    "    'Paris': {\n",
    "    'country': 'France',\n",
    "    'population': 13_000_000,\n",
    "    'fact': 'no need of virus tests now',\n",
    "    },\n",
    "    'tokyo': {\n",
    "    'country': 'Japan',\n",
    "    'population': 20_000_000,\n",
    "    'fact': 'no need of virus tests now',\n",
    "    }\n",
    "}\n",
    "for city,details in cities.items():\n",
    "    print(city)\n",
    "    for key, detail in details.items():\n",
    "        print(key, detail)"
   ]
  }
 ],
 "metadata": {
  "kernelspec": {
   "display_name": "Python 3.7.2 64-bit",
   "language": "python",
   "name": "python3"
  },
  "language_info": {
   "codemirror_mode": {
    "name": "ipython",
    "version": 3
   },
   "file_extension": ".py",
   "mimetype": "text/x-python",
   "name": "python",
   "nbconvert_exporter": "python",
   "pygments_lexer": "ipython3",
   "version": "3.7.2"
  },
  "orig_nbformat": 4,
  "vscode": {
   "interpreter": {
    "hash": "f5812bf74338cfdcf86eebf5ddfaf3941b51f365639c0156a8f0a20f36d43fb1"
   }
  }
 },
 "nbformat": 4,
 "nbformat_minor": 2
}
